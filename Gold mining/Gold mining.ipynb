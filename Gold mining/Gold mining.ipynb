{
 "cells": [
  {
   "cell_type": "markdown",
   "metadata": {
    "toc": true
   },
   "source": [
    "<h1>Содержание<span class=\"tocSkip\"></span></h1>\n",
    "<div class=\"toc\"><ul class=\"toc-item\"><li><span><a href=\"#Подготовка-данных\" data-toc-modified-id=\"Подготовка-данных-1\"><span class=\"toc-item-num\">1&nbsp;&nbsp;</span>Подготовка данных</a></span></li><li><span><a href=\"#Анализ-данных\" data-toc-modified-id=\"Анализ-данных-2\"><span class=\"toc-item-num\">2&nbsp;&nbsp;</span>Анализ данных</a></span><ul class=\"toc-item\"><li><span><a href=\"#Концентрация-металлов\" data-toc-modified-id=\"Концентрация-металлов-2.1\"><span class=\"toc-item-num\">2.1&nbsp;&nbsp;</span>Концентрация металлов</a></span></li><li><span><a href=\"#Размер-гранул\" data-toc-modified-id=\"Размер-гранул-2.2\"><span class=\"toc-item-num\">2.2&nbsp;&nbsp;</span>Размер гранул</a></span></li><li><span><a href=\"#Cуммарная-концентрация-веществ\" data-toc-modified-id=\"Cуммарная-концентрация-веществ-2.3\"><span class=\"toc-item-num\">2.3&nbsp;&nbsp;</span>Cуммарная концентрация веществ</a></span></li></ul></li><li><span><a href=\"#Модель\" data-toc-modified-id=\"Модель-3\"><span class=\"toc-item-num\">3&nbsp;&nbsp;</span>Модель</a></span><ul class=\"toc-item\"><li><span><a href=\"#Функция-итоговой-sMAPE\" data-toc-modified-id=\"Функция-итоговой-sMAPE-3.1\"><span class=\"toc-item-num\">3.1&nbsp;&nbsp;</span>Функция итоговой sMAPE</a></span></li><li><span><a href=\"#Подготовка-данных-к-обучнию-моделей.\" data-toc-modified-id=\"Подготовка-данных-к-обучнию-моделей.-3.2\"><span class=\"toc-item-num\">3.2&nbsp;&nbsp;</span>Подготовка данных к обучнию моделей.</a></span></li><li><span><a href=\"#Выбор-лучшей-модели\" data-toc-modified-id=\"Выбор-лучшей-модели-3.3\"><span class=\"toc-item-num\">3.3&nbsp;&nbsp;</span>Выбор лучшей модели</a></span></li><li><span><a href=\"#Итоговая-проверка\" data-toc-modified-id=\"Итоговая-проверка-3.4\"><span class=\"toc-item-num\">3.4&nbsp;&nbsp;</span>Итоговая проверка</a></span></li></ul></li><li><span><a href=\"#Вывод\" data-toc-modified-id=\"Вывод-4\"><span class=\"toc-item-num\">4&nbsp;&nbsp;</span>Вывод</a></span></li></ul></div>"
   ]
  },
  {
   "cell_type": "markdown",
   "metadata": {},
   "source": [
    "# Восстановление золота из руды"
   ]
  },
  {
   "cell_type": "markdown",
   "metadata": {},
   "source": [
    "# Постановка задачи"
   ]
  },
  {
   "cell_type": "markdown",
   "metadata": {},
   "source": [
    "Подготовить прототип модели машинного обучения для [«Цифры»](http://zyfra.com/). Компания разрабатывает решения для эффективной работы промышленных предприятий.\n",
    "\n",
    "Модель должна предсказать коэффициент восстановления золота из золотосодержащей руды. Будут использоваться данные с параметрами добычи и очистки. \n",
    "\n",
    "Модель поможет оптимизировать производство, чтобы не запускать предприятие с убыточными характеристиками.\n",
    "\n",
    "Нам необходимо:\n",
    "\n",
    "1. Подготовить данные;\n",
    "2. Провести исследовательский анализ данных;\n",
    "3. Построить и обучить модель."
   ]
  },
  {
   "cell_type": "markdown",
   "metadata": {},
   "source": [
    "# Технологический процесс"
   ]
  },
  {
   "cell_type": "markdown",
   "metadata": {},
   "source": [
    "Когда добытая руда проходит первичную обработку, получается дроблёная смесь. Её отправляют на флотацию (обогащение) и двухэтапную очистку."
   ]
  },
  {
   "attachments": {
    "%D0%AD%D1%82%D0%B0%D0%BF%D1%8B%20%D0%BE%D1%87%D0%B8%D1%81%D1%82%D0%BA%D0%B83.png": {
     "image/png": "[encoded data removed]"
    }
   },
   "cell_type": "markdown",
   "metadata": {},
   "source": [
    "![%D0%AD%D1%82%D0%B0%D0%BF%D1%8B%20%D0%BE%D1%87%D0%B8%D1%81%D1%82%D0%BA%D0%B83.png](attachment:%D0%AD%D1%82%D0%B0%D0%BF%D1%8B%20%D0%BE%D1%87%D0%B8%D1%81%D1%82%D0%BA%D0%B83.png)"
   ]
  },
  {
   "cell_type": "markdown",
   "metadata": {},
   "source": [
    "**1. Флотация**\n",
    "\n",
    "Во флотационную установку подаётся смесь золотосодержащей руды. После обогащения получается черновой концентрат и «отвальные хвосты», то есть остатки продукта с низкой концентрацией ценных металлов.\n",
    "\n",
    "На стабильность этого процесса влияет непостоянное и неоптимальное физико-химическое состояние флотационной пульпы (смеси твёрдых частиц и жидкости).\n",
    "\n",
    "**2. Очистка**\n",
    "\n",
    "Черновой концентрат проходит две очистки. На выходе получается финальный концентрат и новые отвальные хвосты."
   ]
  },
  {
   "cell_type": "markdown",
   "metadata": {},
   "source": [
    "# Описание данных"
   ]
  },
  {
   "cell_type": "markdown",
   "metadata": {},
   "source": [
    "**Технологический процесс**\n",
    "- Rougher feed — исходное сырье\n",
    "- Rougher additions (или reagent additions) — флотационные реагенты: Xanthate, Sulphate, Depressant\n",
    " - Xanthate — ксантогенат (промотер, или активатор флотации);\n",
    " - Sulphate — сульфат (на данном производстве сульфид натрия);\n",
    " - Depressant — депрессант (силикат натрия).\n",
    "- Rougher process (англ. «грубый процесс») — флотация\n",
    "- Rougher tails — отвальные хвосты\n",
    "- Float banks — флотационная установка\n",
    "- Cleaner process — очистка\n",
    "- Rougher Au — черновой концентрат золота\n",
    "- Final Au — финальный концентрат золота\n",
    "\n",
    "**Параметры этапов**\n",
    "- air amount — объём воздуха\n",
    "- fluid levels — уровень жидкости\n",
    "- feed size — размер гранул сырья\n",
    "- feed rate — скорость подачи"
   ]
  },
  {
   "cell_type": "markdown",
   "metadata": {},
   "source": [
    "# Наименование признаков"
   ]
  },
  {
   "cell_type": "markdown",
   "metadata": {},
   "source": [
    "Наименование признаков:\n",
    "`[этап].[тип_параметра].[название_параметра]`\n",
    "\n",
    "Пример: `rougher.input.feed_ag`\n",
    "\n",
    "Возможные значения для блока `[этап]`:\n",
    "- rougher — флотация\n",
    "- primary_cleaner — первичная очистка\n",
    "- secondary_cleaner — вторичная очистка\n",
    "- final — финальные характеристики\n",
    "\n",
    "Возможные значения для блока `[тип_параметра]`:\n",
    "- input — параметры сырья\n",
    "- output — параметры продукта\n",
    "- state — параметры, характеризующие текущее состояние этапа\n",
    "- calculation — расчётные характеристики"
   ]
  },
  {
   "cell_type": "markdown",
   "metadata": {},
   "source": [
    "Данные индексируются датой и временем получения информации (признак `date`). Соседние по времени параметры часто похожи."
   ]
  },
  {
   "cell_type": "markdown",
   "metadata": {},
   "source": [
    "## Подготовка данных"
   ]
  },
  {
   "cell_type": "code",
   "execution_count": 1,
   "metadata": {},
   "outputs": [],
   "source": [
    "import numpy as np\n",
    "import pandas as pd\n",
    "import matplotlib.pyplot as plt\n",
    "import itertools\n",
    "import catboost as cb\n",
    "from sklearn.linear_model import LinearRegression\n",
    "from sklearn.tree import DecisionTreeRegressor\n",
    "from sklearn.model_selection import train_test_split, cross_val_predict\n",
    "from sklearn.metrics import r2_score, mean_squared_error, mean_absolute_error\n",
    "from sklearn.preprocessing import StandardScaler\n",
    "import itertools\n",
    "\n",
    "import warnings\n",
    "warnings.filterwarnings('ignore')"
   ]
  },
  {
   "cell_type": "code",
   "execution_count": 2,
   "metadata": {},
   "outputs": [],
   "source": [
    "RANDOM_STATE = 12345\n",
    "RANDOM_RANDOM_STATE = np.random.RandomState(RANDOM_STATE)"
   ]
  },
  {
   "cell_type": "code",
   "execution_count": 3,
   "metadata": {},
   "outputs": [],
   "source": [
    "data_test = pd.read_csv('C:\\\\Users\\\\mikha\\\\Desktop\\\\Data scince\\\\Projects\\\\Data\\\\Данные СбП 2\\\\gold_recovery_test_new.csv', \n",
    "                       index_col = 'date')\n",
    "data_full = pd.read_csv('C:\\\\Users\\\\mikha\\\\Desktop\\\\Data scince\\\\Projects\\\\Data\\\\Данные СбП 2\\\\gold_recovery_full_new.csv', \n",
    "                       index_col = 'date')\n",
    "data_train = pd.read_csv('C:\\\\Users\\\\mikha\\\\Desktop\\\\Data scince\\\\Projects\\\\Data\\\\Данные СбП 2\\\\gold_recovery_train_new.csv', \n",
    "                       index_col = 'date')"
   ]
  },
  {
   "cell_type": "markdown",
   "metadata": {},
   "source": [
    "Выведим общую информацию о данных."
   ]
  },
  {
   "cell_type": "code",
   "execution_count": 4,
   "metadata": {
    "scrolled": true
   },
   "outputs": [
    {
     "name": "stdout",
     "output_type": "stream",
     "text": [
      "<class 'pandas.core.frame.DataFrame'>\n",
      "Index: 5290 entries, 2016-09-01 00:59:59 to 2017-12-31 23:59:59\n",
      "Data columns (total 52 columns):\n",
      " #   Column                                      Non-Null Count  Dtype  \n",
      "---  ------                                      --------------  -----  \n",
      " 0   primary_cleaner.input.sulfate               5286 non-null   float64\n",
      " 1   primary_cleaner.input.depressant            5285 non-null   float64\n",
      " 2   primary_cleaner.input.feed_size             5290 non-null   float64\n",
      " 3   primary_cleaner.input.xanthate              5286 non-null   float64\n",
      " 4   primary_cleaner.state.floatbank8_a_air      5290 non-null   float64\n",
      " 5   primary_cleaner.state.floatbank8_a_level    5290 non-null   float64\n",
      " 6   primary_cleaner.state.floatbank8_b_air      5290 non-null   float64\n",
      " 7   primary_cleaner.state.floatbank8_b_level    5290 non-null   float64\n",
      " 8   primary_cleaner.state.floatbank8_c_air      5290 non-null   float64\n",
      " 9   primary_cleaner.state.floatbank8_c_level    5290 non-null   float64\n",
      " 10  primary_cleaner.state.floatbank8_d_air      5290 non-null   float64\n",
      " 11  primary_cleaner.state.floatbank8_d_level    5290 non-null   float64\n",
      " 12  rougher.input.feed_ag                       5290 non-null   float64\n",
      " 13  rougher.input.feed_pb                       5290 non-null   float64\n",
      " 14  rougher.input.feed_rate                     5287 non-null   float64\n",
      " 15  rougher.input.feed_size                     5289 non-null   float64\n",
      " 16  rougher.input.feed_sol                      5269 non-null   float64\n",
      " 17  rougher.input.feed_au                       5290 non-null   float64\n",
      " 18  rougher.input.floatbank10_sulfate           5285 non-null   float64\n",
      " 19  rougher.input.floatbank10_xanthate          5290 non-null   float64\n",
      " 20  rougher.input.floatbank11_sulfate           5282 non-null   float64\n",
      " 21  rougher.input.floatbank11_xanthate          5265 non-null   float64\n",
      " 22  rougher.state.floatbank10_a_air             5290 non-null   float64\n",
      " 23  rougher.state.floatbank10_a_level           5290 non-null   float64\n",
      " 24  rougher.state.floatbank10_b_air             5290 non-null   float64\n",
      " 25  rougher.state.floatbank10_b_level           5290 non-null   float64\n",
      " 26  rougher.state.floatbank10_c_air             5290 non-null   float64\n",
      " 27  rougher.state.floatbank10_c_level           5290 non-null   float64\n",
      " 28  rougher.state.floatbank10_d_air             5290 non-null   float64\n",
      " 29  rougher.state.floatbank10_d_level           5290 non-null   float64\n",
      " 30  rougher.state.floatbank10_e_air             5290 non-null   float64\n",
      " 31  rougher.state.floatbank10_e_level           5290 non-null   float64\n",
      " 32  rougher.state.floatbank10_f_air             5290 non-null   float64\n",
      " 33  rougher.state.floatbank10_f_level           5290 non-null   float64\n",
      " 34  secondary_cleaner.state.floatbank2_a_air    5287 non-null   float64\n",
      " 35  secondary_cleaner.state.floatbank2_a_level  5290 non-null   float64\n",
      " 36  secondary_cleaner.state.floatbank2_b_air    5288 non-null   float64\n",
      " 37  secondary_cleaner.state.floatbank2_b_level  5290 non-null   float64\n",
      " 38  secondary_cleaner.state.floatbank3_a_air    5281 non-null   float64\n",
      " 39  secondary_cleaner.state.floatbank3_a_level  5290 non-null   float64\n",
      " 40  secondary_cleaner.state.floatbank3_b_air    5290 non-null   float64\n",
      " 41  secondary_cleaner.state.floatbank3_b_level  5290 non-null   float64\n",
      " 42  secondary_cleaner.state.floatbank4_a_air    5290 non-null   float64\n",
      " 43  secondary_cleaner.state.floatbank4_a_level  5290 non-null   float64\n",
      " 44  secondary_cleaner.state.floatbank4_b_air    5290 non-null   float64\n",
      " 45  secondary_cleaner.state.floatbank4_b_level  5290 non-null   float64\n",
      " 46  secondary_cleaner.state.floatbank5_a_air    5290 non-null   float64\n",
      " 47  secondary_cleaner.state.floatbank5_a_level  5290 non-null   float64\n",
      " 48  secondary_cleaner.state.floatbank5_b_air    5290 non-null   float64\n",
      " 49  secondary_cleaner.state.floatbank5_b_level  5290 non-null   float64\n",
      " 50  secondary_cleaner.state.floatbank6_a_air    5290 non-null   float64\n",
      " 51  secondary_cleaner.state.floatbank6_a_level  5290 non-null   float64\n",
      "dtypes: float64(52)\n",
      "memory usage: 2.1+ MB\n",
      "<class 'pandas.core.frame.DataFrame'>\n",
      "Index: 14149 entries, 2016-01-15 00:00:00 to 2018-08-18 10:59:59\n",
      "Data columns (total 86 columns):\n",
      " #   Column                                              Non-Null Count  Dtype  \n",
      "---  ------                                              --------------  -----  \n",
      " 0   final.output.concentrate_ag                         14148 non-null  float64\n",
      " 1   final.output.concentrate_pb                         14148 non-null  float64\n",
      " 2   final.output.concentrate_sol                        13938 non-null  float64\n",
      " 3   final.output.concentrate_au                         14149 non-null  float64\n",
      " 4   final.output.recovery                               14149 non-null  float64\n",
      " 5   final.output.tail_ag                                14149 non-null  float64\n",
      " 6   final.output.tail_pb                                14049 non-null  float64\n",
      " 7   final.output.tail_sol                               14144 non-null  float64\n",
      " 8   final.output.tail_au                                14149 non-null  float64\n",
      " 9   primary_cleaner.input.sulfate                       14129 non-null  float64\n",
      " 10  primary_cleaner.input.depressant                    14117 non-null  float64\n",
      " 11  primary_cleaner.input.feed_size                     14149 non-null  float64\n",
      " 12  primary_cleaner.input.xanthate                      14049 non-null  float64\n",
      " 13  primary_cleaner.output.concentrate_ag               14149 non-null  float64\n",
      " 14  primary_cleaner.output.concentrate_pb               14063 non-null  float64\n",
      " 15  primary_cleaner.output.concentrate_sol              13863 non-null  float64\n",
      " 16  primary_cleaner.output.concentrate_au               14149 non-null  float64\n",
      " 17  primary_cleaner.output.tail_ag                      14148 non-null  float64\n",
      " 18  primary_cleaner.output.tail_pb                      14134 non-null  float64\n",
      " 19  primary_cleaner.output.tail_sol                     14103 non-null  float64\n",
      " 20  primary_cleaner.output.tail_au                      14149 non-null  float64\n",
      " 21  primary_cleaner.state.floatbank8_a_air              14145 non-null  float64\n",
      " 22  primary_cleaner.state.floatbank8_a_level            14148 non-null  float64\n",
      " 23  primary_cleaner.state.floatbank8_b_air              14145 non-null  float64\n",
      " 24  primary_cleaner.state.floatbank8_b_level            14148 non-null  float64\n",
      " 25  primary_cleaner.state.floatbank8_c_air              14147 non-null  float64\n",
      " 26  primary_cleaner.state.floatbank8_c_level            14148 non-null  float64\n",
      " 27  primary_cleaner.state.floatbank8_d_air              14146 non-null  float64\n",
      " 28  primary_cleaner.state.floatbank8_d_level            14148 non-null  float64\n",
      " 29  rougher.calculation.sulfate_to_au_concentrate       14148 non-null  float64\n",
      " 30  rougher.calculation.floatbank10_sulfate_to_au_feed  14148 non-null  float64\n",
      " 31  rougher.calculation.floatbank11_sulfate_to_au_feed  14148 non-null  float64\n",
      " 32  rougher.calculation.au_pb_ratio                     14149 non-null  float64\n",
      " 33  rougher.input.feed_ag                               14149 non-null  float64\n",
      " 34  rougher.input.feed_pb                               14049 non-null  float64\n",
      " 35  rougher.input.feed_rate                             14141 non-null  float64\n",
      " 36  rougher.input.feed_size                             14005 non-null  float64\n",
      " 37  rougher.input.feed_sol                              14071 non-null  float64\n",
      " 38  rougher.input.feed_au                               14149 non-null  float64\n",
      " 39  rougher.input.floatbank10_sulfate                   14120 non-null  float64\n",
      " 40  rougher.input.floatbank10_xanthate                  14141 non-null  float64\n",
      " 41  rougher.input.floatbank11_sulfate                   14113 non-null  float64\n",
      " 42  rougher.input.floatbank11_xanthate                  13721 non-null  float64\n",
      " 43  rougher.output.concentrate_ag                       14149 non-null  float64\n",
      " 44  rougher.output.concentrate_pb                       14149 non-null  float64\n",
      " 45  rougher.output.concentrate_sol                      14127 non-null  float64\n",
      " 46  rougher.output.concentrate_au                       14149 non-null  float64\n",
      " 47  rougher.output.recovery                             14149 non-null  float64\n",
      " 48  rougher.output.tail_ag                              14148 non-null  float64\n",
      " 49  rougher.output.tail_pb                              14149 non-null  float64\n",
      " 50  rougher.output.tail_sol                             14149 non-null  float64\n",
      " 51  rougher.output.tail_au                              14149 non-null  float64\n",
      " 52  rougher.state.floatbank10_a_air                     14148 non-null  float64\n",
      " 53  rougher.state.floatbank10_a_level                   14148 non-null  float64\n",
      " 54  rougher.state.floatbank10_b_air                     14148 non-null  float64\n",
      " 55  rougher.state.floatbank10_b_level                   14148 non-null  float64\n",
      " 56  rougher.state.floatbank10_c_air                     14148 non-null  float64\n",
      " 57  rougher.state.floatbank10_c_level                   14148 non-null  float64\n",
      " 58  rougher.state.floatbank10_d_air                     14149 non-null  float64\n",
      " 59  rougher.state.floatbank10_d_level                   14149 non-null  float64\n",
      " 60  rougher.state.floatbank10_e_air                     13713 non-null  float64\n",
      " 61  rougher.state.floatbank10_e_level                   14149 non-null  float64\n",
      " 62  rougher.state.floatbank10_f_air                     14149 non-null  float64\n",
      " 63  rougher.state.floatbank10_f_level                   14149 non-null  float64\n",
      " 64  secondary_cleaner.output.tail_ag                    14147 non-null  float64\n",
      " 65  secondary_cleaner.output.tail_pb                    14139 non-null  float64\n",
      " 66  secondary_cleaner.output.tail_sol                   12544 non-null  float64\n",
      " 67  secondary_cleaner.output.tail_au                    14149 non-null  float64\n",
      " 68  secondary_cleaner.state.floatbank2_a_air            13932 non-null  float64\n",
      " 69  secondary_cleaner.state.floatbank2_a_level          14148 non-null  float64\n",
      " 70  secondary_cleaner.state.floatbank2_b_air            14128 non-null  float64\n",
      " 71  secondary_cleaner.state.floatbank2_b_level          14148 non-null  float64\n",
      " 72  secondary_cleaner.state.floatbank3_a_air            14145 non-null  float64\n",
      " 73  secondary_cleaner.state.floatbank3_a_level          14148 non-null  float64\n",
      " 74  secondary_cleaner.state.floatbank3_b_air            14148 non-null  float64\n",
      " 75  secondary_cleaner.state.floatbank3_b_level          14148 non-null  float64\n",
      " 76  secondary_cleaner.state.floatbank4_a_air            14143 non-null  float64\n",
      " 77  secondary_cleaner.state.floatbank4_a_level          14148 non-null  float64\n",
      " 78  secondary_cleaner.state.floatbank4_b_air            14148 non-null  float64\n",
      " 79  secondary_cleaner.state.floatbank4_b_level          14148 non-null  float64\n",
      " 80  secondary_cleaner.state.floatbank5_a_air            14148 non-null  float64\n",
      " 81  secondary_cleaner.state.floatbank5_a_level          14148 non-null  float64\n",
      " 82  secondary_cleaner.state.floatbank5_b_air            14148 non-null  float64\n",
      " 83  secondary_cleaner.state.floatbank5_b_level          14148 non-null  float64\n",
      " 84  secondary_cleaner.state.floatbank6_a_air            14147 non-null  float64\n",
      " 85  secondary_cleaner.state.floatbank6_a_level          14148 non-null  float64\n",
      "dtypes: float64(86)\n",
      "memory usage: 9.4+ MB\n",
      "<class 'pandas.core.frame.DataFrame'>\n",
      "Index: 19439 entries, 2016-01-15 00:00:00 to 2018-08-18 10:59:59\n",
      "Data columns (total 86 columns):\n",
      " #   Column                                              Non-Null Count  Dtype  \n",
      "---  ------                                              --------------  -----  \n",
      " 0   final.output.concentrate_ag                         19438 non-null  float64\n",
      " 1   final.output.concentrate_pb                         19438 non-null  float64\n",
      " 2   final.output.concentrate_sol                        19228 non-null  float64\n",
      " 3   final.output.concentrate_au                         19439 non-null  float64\n",
      " 4   final.output.recovery                               19439 non-null  float64\n",
      " 5   final.output.tail_ag                                19438 non-null  float64\n",
      " 6   final.output.tail_pb                                19338 non-null  float64\n",
      " 7   final.output.tail_sol                               19433 non-null  float64\n",
      " 8   final.output.tail_au                                19439 non-null  float64\n",
      " 9   primary_cleaner.input.sulfate                       19415 non-null  float64\n",
      " 10  primary_cleaner.input.depressant                    19402 non-null  float64\n",
      " 11  primary_cleaner.input.feed_size                     19439 non-null  float64\n",
      " 12  primary_cleaner.input.xanthate                      19335 non-null  float64\n",
      " 13  primary_cleaner.output.concentrate_ag               19439 non-null  float64\n",
      " 14  primary_cleaner.output.concentrate_pb               19323 non-null  float64\n",
      " 15  primary_cleaner.output.concentrate_sol              19069 non-null  float64\n",
      " 16  primary_cleaner.output.concentrate_au               19439 non-null  float64\n",
      " 17  primary_cleaner.output.tail_ag                      19435 non-null  float64\n",
      " 18  primary_cleaner.output.tail_pb                      19418 non-null  float64\n",
      " 19  primary_cleaner.output.tail_sol                     19377 non-null  float64\n",
      " 20  primary_cleaner.output.tail_au                      19439 non-null  float64\n",
      " 21  primary_cleaner.state.floatbank8_a_air              19435 non-null  float64\n",
      " 22  primary_cleaner.state.floatbank8_a_level            19438 non-null  float64\n",
      " 23  primary_cleaner.state.floatbank8_b_air              19435 non-null  float64\n",
      " 24  primary_cleaner.state.floatbank8_b_level            19438 non-null  float64\n",
      " 25  primary_cleaner.state.floatbank8_c_air              19437 non-null  float64\n",
      " 26  primary_cleaner.state.floatbank8_c_level            19438 non-null  float64\n",
      " 27  primary_cleaner.state.floatbank8_d_air              19436 non-null  float64\n",
      " 28  primary_cleaner.state.floatbank8_d_level            19438 non-null  float64\n",
      " 29  rougher.calculation.sulfate_to_au_concentrate       19437 non-null  float64\n",
      " 30  rougher.calculation.floatbank10_sulfate_to_au_feed  19437 non-null  float64\n",
      " 31  rougher.calculation.floatbank11_sulfate_to_au_feed  19437 non-null  float64\n",
      " 32  rougher.calculation.au_pb_ratio                     19439 non-null  float64\n",
      " 33  rougher.input.feed_ag                               19439 non-null  float64\n",
      " 34  rougher.input.feed_pb                               19339 non-null  float64\n",
      " 35  rougher.input.feed_rate                             19428 non-null  float64\n",
      " 36  rougher.input.feed_size                             19294 non-null  float64\n",
      " 37  rougher.input.feed_sol                              19340 non-null  float64\n",
      " 38  rougher.input.feed_au                               19439 non-null  float64\n",
      " 39  rougher.input.floatbank10_sulfate                   19405 non-null  float64\n",
      " 40  rougher.input.floatbank10_xanthate                  19431 non-null  float64\n",
      " 41  rougher.input.floatbank11_sulfate                   19395 non-null  float64\n",
      " 42  rougher.input.floatbank11_xanthate                  18986 non-null  float64\n",
      " 43  rougher.output.concentrate_ag                       19439 non-null  float64\n",
      " 44  rougher.output.concentrate_pb                       19439 non-null  float64\n",
      " 45  rougher.output.concentrate_sol                      19416 non-null  float64\n",
      " 46  rougher.output.concentrate_au                       19439 non-null  float64\n",
      " 47  rougher.output.recovery                             19439 non-null  float64\n",
      " 48  rougher.output.tail_ag                              19438 non-null  float64\n",
      " 49  rougher.output.tail_pb                              19439 non-null  float64\n",
      " 50  rougher.output.tail_sol                             19439 non-null  float64\n",
      " 51  rougher.output.tail_au                              19439 non-null  float64\n",
      " 52  rougher.state.floatbank10_a_air                     19438 non-null  float64\n",
      " 53  rougher.state.floatbank10_a_level                   19438 non-null  float64\n",
      " 54  rougher.state.floatbank10_b_air                     19438 non-null  float64\n",
      " 55  rougher.state.floatbank10_b_level                   19438 non-null  float64\n",
      " 56  rougher.state.floatbank10_c_air                     19438 non-null  float64\n",
      " 57  rougher.state.floatbank10_c_level                   19438 non-null  float64\n",
      " 58  rougher.state.floatbank10_d_air                     19439 non-null  float64\n",
      " 59  rougher.state.floatbank10_d_level                   19439 non-null  float64\n",
      " 60  rougher.state.floatbank10_e_air                     19003 non-null  float64\n",
      " 61  rougher.state.floatbank10_e_level                   19439 non-null  float64\n",
      " 62  rougher.state.floatbank10_f_air                     19439 non-null  float64\n",
      " 63  rougher.state.floatbank10_f_level                   19439 non-null  float64\n",
      " 64  secondary_cleaner.output.tail_ag                    19437 non-null  float64\n",
      " 65  secondary_cleaner.output.tail_pb                    19427 non-null  float64\n",
      " 66  secondary_cleaner.output.tail_sol                   17691 non-null  float64\n",
      " 67  secondary_cleaner.output.tail_au                    19439 non-null  float64\n",
      " 68  secondary_cleaner.state.floatbank2_a_air            19219 non-null  float64\n",
      " 69  secondary_cleaner.state.floatbank2_a_level          19438 non-null  float64\n",
      " 70  secondary_cleaner.state.floatbank2_b_air            19416 non-null  float64\n",
      " 71  secondary_cleaner.state.floatbank2_b_level          19438 non-null  float64\n",
      " 72  secondary_cleaner.state.floatbank3_a_air            19426 non-null  float64\n",
      " 73  secondary_cleaner.state.floatbank3_a_level          19438 non-null  float64\n",
      " 74  secondary_cleaner.state.floatbank3_b_air            19438 non-null  float64\n",
      " 75  secondary_cleaner.state.floatbank3_b_level          19438 non-null  float64\n",
      " 76  secondary_cleaner.state.floatbank4_a_air            19433 non-null  float64\n",
      " 77  secondary_cleaner.state.floatbank4_a_level          19438 non-null  float64\n",
      " 78  secondary_cleaner.state.floatbank4_b_air            19438 non-null  float64\n",
      " 79  secondary_cleaner.state.floatbank4_b_level          19438 non-null  float64\n",
      " 80  secondary_cleaner.state.floatbank5_a_air            19438 non-null  float64\n",
      " 81  secondary_cleaner.state.floatbank5_a_level          19438 non-null  float64\n",
      " 82  secondary_cleaner.state.floatbank5_b_air            19438 non-null  float64\n",
      " 83  secondary_cleaner.state.floatbank5_b_level          19438 non-null  float64\n",
      " 84  secondary_cleaner.state.floatbank6_a_air            19437 non-null  float64\n",
      " 85  secondary_cleaner.state.floatbank6_a_level          19438 non-null  float64\n",
      "dtypes: float64(86)\n",
      "memory usage: 12.9+ MB\n"
     ]
    },
    {
     "data": {
      "text/plain": [
       "[None, None, None]"
      ]
     },
     "execution_count": 4,
     "metadata": {},
     "output_type": "execute_result"
    }
   ],
   "source": [
    "[df.info() for df in [data_test, data_train, data_full]]"
   ]
  },
  {
   "cell_type": "code",
   "execution_count": 5,
   "metadata": {},
   "outputs": [
    {
     "data": {
      "text/html": [
       "<div>\n",
       "<style scoped>\n",
       "    .dataframe tbody tr th:only-of-type {\n",
       "        vertical-align: middle;\n",
       "    }\n",
       "\n",
       "    .dataframe tbody tr th {\n",
       "        vertical-align: top;\n",
       "    }\n",
       "\n",
       "    .dataframe thead th {\n",
       "        text-align: right;\n",
       "    }\n",
       "</style>\n",
       "<table border=\"1\" class=\"dataframe\">\n",
       "  <thead>\n",
       "    <tr style=\"text-align: right;\">\n",
       "      <th></th>\n",
       "      <th>final.output.concentrate_ag</th>\n",
       "      <th>final.output.concentrate_pb</th>\n",
       "      <th>final.output.concentrate_sol</th>\n",
       "      <th>final.output.concentrate_au</th>\n",
       "      <th>final.output.recovery</th>\n",
       "      <th>final.output.tail_ag</th>\n",
       "      <th>final.output.tail_pb</th>\n",
       "      <th>final.output.tail_sol</th>\n",
       "      <th>final.output.tail_au</th>\n",
       "      <th>primary_cleaner.input.sulfate</th>\n",
       "      <th>...</th>\n",
       "      <th>secondary_cleaner.state.floatbank4_a_air</th>\n",
       "      <th>secondary_cleaner.state.floatbank4_a_level</th>\n",
       "      <th>secondary_cleaner.state.floatbank4_b_air</th>\n",
       "      <th>secondary_cleaner.state.floatbank4_b_level</th>\n",
       "      <th>secondary_cleaner.state.floatbank5_a_air</th>\n",
       "      <th>secondary_cleaner.state.floatbank5_a_level</th>\n",
       "      <th>secondary_cleaner.state.floatbank5_b_air</th>\n",
       "      <th>secondary_cleaner.state.floatbank5_b_level</th>\n",
       "      <th>secondary_cleaner.state.floatbank6_a_air</th>\n",
       "      <th>secondary_cleaner.state.floatbank6_a_level</th>\n",
       "    </tr>\n",
       "    <tr>\n",
       "      <th>date</th>\n",
       "      <th></th>\n",
       "      <th></th>\n",
       "      <th></th>\n",
       "      <th></th>\n",
       "      <th></th>\n",
       "      <th></th>\n",
       "      <th></th>\n",
       "      <th></th>\n",
       "      <th></th>\n",
       "      <th></th>\n",
       "      <th></th>\n",
       "      <th></th>\n",
       "      <th></th>\n",
       "      <th></th>\n",
       "      <th></th>\n",
       "      <th></th>\n",
       "      <th></th>\n",
       "      <th></th>\n",
       "      <th></th>\n",
       "      <th></th>\n",
       "      <th></th>\n",
       "    </tr>\n",
       "  </thead>\n",
       "  <tbody>\n",
       "    <tr>\n",
       "      <th>2016-01-15 00:00:00</th>\n",
       "      <td>6.055403</td>\n",
       "      <td>9.889648</td>\n",
       "      <td>5.507324</td>\n",
       "      <td>42.192020</td>\n",
       "      <td>70.541216</td>\n",
       "      <td>10.411962</td>\n",
       "      <td>0.895447</td>\n",
       "      <td>16.904297</td>\n",
       "      <td>2.143149</td>\n",
       "      <td>127.092003</td>\n",
       "      <td>...</td>\n",
       "      <td>14.016835</td>\n",
       "      <td>-502.488007</td>\n",
       "      <td>12.099931</td>\n",
       "      <td>-504.715942</td>\n",
       "      <td>9.925633</td>\n",
       "      <td>-498.310211</td>\n",
       "      <td>8.079666</td>\n",
       "      <td>-500.470978</td>\n",
       "      <td>14.151341</td>\n",
       "      <td>-605.841980</td>\n",
       "    </tr>\n",
       "    <tr>\n",
       "      <th>2016-01-15 01:00:00</th>\n",
       "      <td>6.029369</td>\n",
       "      <td>9.968944</td>\n",
       "      <td>5.257781</td>\n",
       "      <td>42.701629</td>\n",
       "      <td>69.266198</td>\n",
       "      <td>10.462676</td>\n",
       "      <td>0.927452</td>\n",
       "      <td>16.634514</td>\n",
       "      <td>2.224930</td>\n",
       "      <td>125.629232</td>\n",
       "      <td>...</td>\n",
       "      <td>13.992281</td>\n",
       "      <td>-505.503262</td>\n",
       "      <td>11.950531</td>\n",
       "      <td>-501.331529</td>\n",
       "      <td>10.039245</td>\n",
       "      <td>-500.169983</td>\n",
       "      <td>7.984757</td>\n",
       "      <td>-500.582168</td>\n",
       "      <td>13.998353</td>\n",
       "      <td>-599.787184</td>\n",
       "    </tr>\n",
       "    <tr>\n",
       "      <th>2016-01-15 02:00:00</th>\n",
       "      <td>6.055926</td>\n",
       "      <td>10.213995</td>\n",
       "      <td>5.383759</td>\n",
       "      <td>42.657501</td>\n",
       "      <td>68.116445</td>\n",
       "      <td>10.507046</td>\n",
       "      <td>0.953716</td>\n",
       "      <td>16.208849</td>\n",
       "      <td>2.257889</td>\n",
       "      <td>123.819808</td>\n",
       "      <td>...</td>\n",
       "      <td>14.015015</td>\n",
       "      <td>-502.520901</td>\n",
       "      <td>11.912783</td>\n",
       "      <td>-501.133383</td>\n",
       "      <td>10.070913</td>\n",
       "      <td>-500.129135</td>\n",
       "      <td>8.013877</td>\n",
       "      <td>-500.517572</td>\n",
       "      <td>14.028663</td>\n",
       "      <td>-601.427363</td>\n",
       "    </tr>\n",
       "    <tr>\n",
       "      <th>2016-01-15 03:00:00</th>\n",
       "      <td>6.047977</td>\n",
       "      <td>9.977019</td>\n",
       "      <td>4.858634</td>\n",
       "      <td>42.689819</td>\n",
       "      <td>68.347543</td>\n",
       "      <td>10.422762</td>\n",
       "      <td>0.883763</td>\n",
       "      <td>16.532835</td>\n",
       "      <td>2.146849</td>\n",
       "      <td>122.270188</td>\n",
       "      <td>...</td>\n",
       "      <td>14.036510</td>\n",
       "      <td>-500.857308</td>\n",
       "      <td>11.999550</td>\n",
       "      <td>-501.193686</td>\n",
       "      <td>9.970366</td>\n",
       "      <td>-499.201640</td>\n",
       "      <td>7.977324</td>\n",
       "      <td>-500.255908</td>\n",
       "      <td>14.005551</td>\n",
       "      <td>-599.996129</td>\n",
       "    </tr>\n",
       "    <tr>\n",
       "      <th>2016-01-15 04:00:00</th>\n",
       "      <td>6.148599</td>\n",
       "      <td>10.142511</td>\n",
       "      <td>4.939416</td>\n",
       "      <td>42.774141</td>\n",
       "      <td>66.927016</td>\n",
       "      <td>10.360302</td>\n",
       "      <td>0.792826</td>\n",
       "      <td>16.525686</td>\n",
       "      <td>2.055292</td>\n",
       "      <td>117.988169</td>\n",
       "      <td>...</td>\n",
       "      <td>14.027298</td>\n",
       "      <td>-499.838632</td>\n",
       "      <td>11.953070</td>\n",
       "      <td>-501.053894</td>\n",
       "      <td>9.925709</td>\n",
       "      <td>-501.686727</td>\n",
       "      <td>7.894242</td>\n",
       "      <td>-500.356035</td>\n",
       "      <td>13.996647</td>\n",
       "      <td>-601.496691</td>\n",
       "    </tr>\n",
       "  </tbody>\n",
       "</table>\n",
       "<p>5 rows × 86 columns</p>\n",
       "</div>"
      ],
      "text/plain": [
       "                     final.output.concentrate_ag  final.output.concentrate_pb  \\\n",
       "date                                                                            \n",
       "2016-01-15 00:00:00                     6.055403                     9.889648   \n",
       "2016-01-15 01:00:00                     6.029369                     9.968944   \n",
       "2016-01-15 02:00:00                     6.055926                    10.213995   \n",
       "2016-01-15 03:00:00                     6.047977                     9.977019   \n",
       "2016-01-15 04:00:00                     6.148599                    10.142511   \n",
       "\n",
       "                     final.output.concentrate_sol  \\\n",
       "date                                                \n",
       "2016-01-15 00:00:00                      5.507324   \n",
       "2016-01-15 01:00:00                      5.257781   \n",
       "2016-01-15 02:00:00                      5.383759   \n",
       "2016-01-15 03:00:00                      4.858634   \n",
       "2016-01-15 04:00:00                      4.939416   \n",
       "\n",
       "                     final.output.concentrate_au  final.output.recovery  \\\n",
       "date                                                                      \n",
       "2016-01-15 00:00:00                    42.192020              70.541216   \n",
       "2016-01-15 01:00:00                    42.701629              69.266198   \n",
       "2016-01-15 02:00:00                    42.657501              68.116445   \n",
       "2016-01-15 03:00:00                    42.689819              68.347543   \n",
       "2016-01-15 04:00:00                    42.774141              66.927016   \n",
       "\n",
       "                     final.output.tail_ag  final.output.tail_pb  \\\n",
       "date                                                              \n",
       "2016-01-15 00:00:00             10.411962              0.895447   \n",
       "2016-01-15 01:00:00             10.462676              0.927452   \n",
       "2016-01-15 02:00:00             10.507046              0.953716   \n",
       "2016-01-15 03:00:00             10.422762              0.883763   \n",
       "2016-01-15 04:00:00             10.360302              0.792826   \n",
       "\n",
       "                     final.output.tail_sol  final.output.tail_au  \\\n",
       "date                                                               \n",
       "2016-01-15 00:00:00              16.904297              2.143149   \n",
       "2016-01-15 01:00:00              16.634514              2.224930   \n",
       "2016-01-15 02:00:00              16.208849              2.257889   \n",
       "2016-01-15 03:00:00              16.532835              2.146849   \n",
       "2016-01-15 04:00:00              16.525686              2.055292   \n",
       "\n",
       "                     primary_cleaner.input.sulfate  ...  \\\n",
       "date                                                ...   \n",
       "2016-01-15 00:00:00                     127.092003  ...   \n",
       "2016-01-15 01:00:00                     125.629232  ...   \n",
       "2016-01-15 02:00:00                     123.819808  ...   \n",
       "2016-01-15 03:00:00                     122.270188  ...   \n",
       "2016-01-15 04:00:00                     117.988169  ...   \n",
       "\n",
       "                     secondary_cleaner.state.floatbank4_a_air  \\\n",
       "date                                                            \n",
       "2016-01-15 00:00:00                                 14.016835   \n",
       "2016-01-15 01:00:00                                 13.992281   \n",
       "2016-01-15 02:00:00                                 14.015015   \n",
       "2016-01-15 03:00:00                                 14.036510   \n",
       "2016-01-15 04:00:00                                 14.027298   \n",
       "\n",
       "                     secondary_cleaner.state.floatbank4_a_level  \\\n",
       "date                                                              \n",
       "2016-01-15 00:00:00                                 -502.488007   \n",
       "2016-01-15 01:00:00                                 -505.503262   \n",
       "2016-01-15 02:00:00                                 -502.520901   \n",
       "2016-01-15 03:00:00                                 -500.857308   \n",
       "2016-01-15 04:00:00                                 -499.838632   \n",
       "\n",
       "                     secondary_cleaner.state.floatbank4_b_air  \\\n",
       "date                                                            \n",
       "2016-01-15 00:00:00                                 12.099931   \n",
       "2016-01-15 01:00:00                                 11.950531   \n",
       "2016-01-15 02:00:00                                 11.912783   \n",
       "2016-01-15 03:00:00                                 11.999550   \n",
       "2016-01-15 04:00:00                                 11.953070   \n",
       "\n",
       "                     secondary_cleaner.state.floatbank4_b_level  \\\n",
       "date                                                              \n",
       "2016-01-15 00:00:00                                 -504.715942   \n",
       "2016-01-15 01:00:00                                 -501.331529   \n",
       "2016-01-15 02:00:00                                 -501.133383   \n",
       "2016-01-15 03:00:00                                 -501.193686   \n",
       "2016-01-15 04:00:00                                 -501.053894   \n",
       "\n",
       "                     secondary_cleaner.state.floatbank5_a_air  \\\n",
       "date                                                            \n",
       "2016-01-15 00:00:00                                  9.925633   \n",
       "2016-01-15 01:00:00                                 10.039245   \n",
       "2016-01-15 02:00:00                                 10.070913   \n",
       "2016-01-15 03:00:00                                  9.970366   \n",
       "2016-01-15 04:00:00                                  9.925709   \n",
       "\n",
       "                     secondary_cleaner.state.floatbank5_a_level  \\\n",
       "date                                                              \n",
       "2016-01-15 00:00:00                                 -498.310211   \n",
       "2016-01-15 01:00:00                                 -500.169983   \n",
       "2016-01-15 02:00:00                                 -500.129135   \n",
       "2016-01-15 03:00:00                                 -499.201640   \n",
       "2016-01-15 04:00:00                                 -501.686727   \n",
       "\n",
       "                     secondary_cleaner.state.floatbank5_b_air  \\\n",
       "date                                                            \n",
       "2016-01-15 00:00:00                                  8.079666   \n",
       "2016-01-15 01:00:00                                  7.984757   \n",
       "2016-01-15 02:00:00                                  8.013877   \n",
       "2016-01-15 03:00:00                                  7.977324   \n",
       "2016-01-15 04:00:00                                  7.894242   \n",
       "\n",
       "                     secondary_cleaner.state.floatbank5_b_level  \\\n",
       "date                                                              \n",
       "2016-01-15 00:00:00                                 -500.470978   \n",
       "2016-01-15 01:00:00                                 -500.582168   \n",
       "2016-01-15 02:00:00                                 -500.517572   \n",
       "2016-01-15 03:00:00                                 -500.255908   \n",
       "2016-01-15 04:00:00                                 -500.356035   \n",
       "\n",
       "                     secondary_cleaner.state.floatbank6_a_air  \\\n",
       "date                                                            \n",
       "2016-01-15 00:00:00                                 14.151341   \n",
       "2016-01-15 01:00:00                                 13.998353   \n",
       "2016-01-15 02:00:00                                 14.028663   \n",
       "2016-01-15 03:00:00                                 14.005551   \n",
       "2016-01-15 04:00:00                                 13.996647   \n",
       "\n",
       "                     secondary_cleaner.state.floatbank6_a_level  \n",
       "date                                                             \n",
       "2016-01-15 00:00:00                                 -605.841980  \n",
       "2016-01-15 01:00:00                                 -599.787184  \n",
       "2016-01-15 02:00:00                                 -601.427363  \n",
       "2016-01-15 03:00:00                                 -599.996129  \n",
       "2016-01-15 04:00:00                                 -601.496691  \n",
       "\n",
       "[5 rows x 86 columns]"
      ]
     },
     "execution_count": 5,
     "metadata": {},
     "output_type": "execute_result"
    }
   ],
   "source": [
    "data_full.head()"
   ]
  },
  {
   "cell_type": "markdown",
   "metadata": {},
   "source": [
    "Проверим кол-во пропущенных значений."
   ]
  },
  {
   "cell_type": "code",
   "execution_count": 6,
   "metadata": {},
   "outputs": [
    {
     "name": "stdout",
     "output_type": "stream",
     "text": [
      "Общее кол-во пропусков в data_full: 4481\n",
      "Общее кол-во пропусков в data_train: 4100\n",
      "Общее кол-во пропусков в data_test: 90\n"
     ]
    }
   ],
   "source": [
    "print('Общее кол-во пропусков в data_full:',data_full.isnull().sum().sum())\n",
    "print('Общее кол-во пропусков в data_train:',data_train.isnull().sum().sum())\n",
    "print('Общее кол-во пропусков в data_test:',data_test.isnull().sum().sum())"
   ]
  },
  {
   "cell_type": "markdown",
   "metadata": {},
   "source": [
    "Данные обновляются с интервалом в 1 час, поэтому в качестве индекса был выбран именно этот столбец.\n",
    "\n",
    "В некоторых столбцах встречаются пропуски. Т.к. данные обновляются с интервалом в 1 час, уместно будет заполнить пропуски  методом `'ffill'`. Он зполнит пропуски значениями из следующих строк.\n",
    "\n",
    "Заполним пропуски в `data_full` и других датасетах. Для удобства дальнейшей работы, вернем индексы из `data_full` в тренировочную и тестовую выборки."
   ]
  },
  {
   "cell_type": "code",
   "execution_count": 7,
   "metadata": {},
   "outputs": [],
   "source": [
    "data_full = data_full.fillna(method='ffill')"
   ]
  },
  {
   "cell_type": "code",
   "execution_count": 8,
   "metadata": {},
   "outputs": [],
   "source": [
    "for col in data_test.columns:\n",
    "    for row in data_test.index:\n",
    "        if pd.isna(data_test.loc[row,col])==True: \n",
    "            data_test.loc[row,col] = data_full.loc[row,col] #заменяем пропуски в тестовой выборке значением из data_full"
   ]
  },
  {
   "cell_type": "code",
   "execution_count": 9,
   "metadata": {},
   "outputs": [],
   "source": [
    "for col in data_train.columns:\n",
    "    for row in data_train.index:\n",
    "        if pd.isna(data_train.loc[row,col])==True:\n",
    "            data_train.loc[row,col] = data_full.loc[row,col] #заменяем пропуски в тренировочной выборке значением из data_full"
   ]
  },
  {
   "cell_type": "markdown",
   "metadata": {},
   "source": [
    "Проверим результат"
   ]
  },
  {
   "cell_type": "code",
   "execution_count": 10,
   "metadata": {},
   "outputs": [
    {
     "name": "stdout",
     "output_type": "stream",
     "text": [
      "Общее кол-во пропусков в data_full: 0\n",
      "Общее кол-во пропусков в data_train: 0\n",
      "Общее кол-во пропусков в data_test: 0\n"
     ]
    }
   ],
   "source": [
    "print('Общее кол-во пропусков в data_full:',data_full.isnull().sum().sum())\n",
    "print('Общее кол-во пропусков в data_train:',data_train.isnull().sum().sum())\n",
    "print('Общее кол-во пропусков в data_test:',data_test.isnull().sum().sum())"
   ]
  },
  {
   "cell_type": "markdown",
   "metadata": {},
   "source": [
    "Проверим, что эффективность обогащения рассчитана правильно.\n",
    "\n",
    "Формула расчета эффективности обогащения:"
   ]
  },
  {
   "attachments": {
    "%D0%A0%D0%B0%D1%81%D1%87%D0%B5%D1%82%20%D1%8D%D1%84%D0%B5%D0%BA%D1%82%D0%B8%D0%B2%D0%BD%D0%BE%D1%81%D1%82%D0%B8.png": {
     "image/png": "[encoded data removed]"
    }
   },
   "cell_type": "markdown",
   "metadata": {},
   "source": [
    "![%D0%A0%D0%B0%D1%81%D1%87%D0%B5%D1%82%20%D1%8D%D1%84%D0%B5%D0%BA%D1%82%D0%B8%D0%B2%D0%BD%D0%BE%D1%81%D1%82%D0%B8.png](attachment:%D0%A0%D0%B0%D1%81%D1%87%D0%B5%D1%82%20%D1%8D%D1%84%D0%B5%D0%BA%D1%82%D0%B8%D0%B2%D0%BD%D0%BE%D1%81%D1%82%D0%B8.png)"
   ]
  },
  {
   "cell_type": "markdown",
   "metadata": {},
   "source": [
    "где:\n",
    "\n",
    "- C — доля золота в концентрате после флотации/очистки;\n",
    "- F — доля золота в сырье/концентрате до флотации/очистки;\n",
    "- T — доля золота в отвальных хвостах после флотации/очистки."
   ]
  },
  {
   "cell_type": "code",
   "execution_count": 11,
   "metadata": {},
   "outputs": [
    {
     "data": {
      "text/plain": [
       "9.874045668302637e-15"
      ]
     },
     "execution_count": 11,
     "metadata": {},
     "output_type": "execute_result"
    }
   ],
   "source": [
    "full_recovery = []\n",
    "\n",
    "for r in data_full.index:\n",
    "    c = data_full.loc[r, 'rougher.output.concentrate_au']\n",
    "    f = data_full.loc[r, 'rougher.input.feed_au']\n",
    "    t = data_full.loc[r, 'rougher.output.tail_au']\n",
    "    full_recovery.append(c*(f-t)/(f*(c-t))*100)\n",
    "    \n",
    "mean_absolute_error(data_full['rougher.output.recovery'],full_recovery)    "
   ]
  },
  {
   "cell_type": "markdown",
   "metadata": {},
   "source": [
    "MAE близко к 0. Эффективность обогащения расчитана верно.\n",
    "\n",
    "Проанализируем признаки, недоступные в тестовой выборке."
   ]
  },
  {
   "cell_type": "code",
   "execution_count": 12,
   "metadata": {
    "scrolled": true
   },
   "outputs": [
    {
     "data": {
      "text/plain": [
       "['final.output.concentrate_ag',\n",
       " 'final.output.concentrate_pb',\n",
       " 'final.output.concentrate_sol',\n",
       " 'final.output.concentrate_au',\n",
       " 'final.output.recovery',\n",
       " 'final.output.tail_ag',\n",
       " 'final.output.tail_pb',\n",
       " 'final.output.tail_sol',\n",
       " 'final.output.tail_au',\n",
       " 'primary_cleaner.output.concentrate_ag',\n",
       " 'primary_cleaner.output.concentrate_pb',\n",
       " 'primary_cleaner.output.concentrate_sol',\n",
       " 'primary_cleaner.output.concentrate_au',\n",
       " 'primary_cleaner.output.tail_ag',\n",
       " 'primary_cleaner.output.tail_pb',\n",
       " 'primary_cleaner.output.tail_sol',\n",
       " 'primary_cleaner.output.tail_au',\n",
       " 'rougher.calculation.sulfate_to_au_concentrate',\n",
       " 'rougher.calculation.floatbank10_sulfate_to_au_feed',\n",
       " 'rougher.calculation.floatbank11_sulfate_to_au_feed',\n",
       " 'rougher.calculation.au_pb_ratio',\n",
       " 'rougher.output.concentrate_ag',\n",
       " 'rougher.output.concentrate_pb',\n",
       " 'rougher.output.concentrate_sol',\n",
       " 'rougher.output.concentrate_au',\n",
       " 'rougher.output.recovery',\n",
       " 'rougher.output.tail_ag',\n",
       " 'rougher.output.tail_pb',\n",
       " 'rougher.output.tail_sol',\n",
       " 'rougher.output.tail_au',\n",
       " 'secondary_cleaner.output.tail_ag',\n",
       " 'secondary_cleaner.output.tail_pb',\n",
       " 'secondary_cleaner.output.tail_sol',\n",
       " 'secondary_cleaner.output.tail_au']"
      ]
     },
     "execution_count": 12,
     "metadata": {},
     "output_type": "execute_result"
    }
   ],
   "source": [
    "[col for col in data_train.columns if col not in data_test.columns]"
   ]
  },
  {
   "cell_type": "markdown",
   "metadata": {},
   "source": [
    "В тестовой выборке недоступны некоторые расчетные (calculation) и выходные (output) характеристики процесса, ведь их невозможно получить либо замерить во время выполнения технологического процесса."
   ]
  },
  {
   "cell_type": "markdown",
   "metadata": {},
   "source": [
    "## Анализ данных"
   ]
  },
  {
   "cell_type": "markdown",
   "metadata": {},
   "source": [
    "### Концентрация металлов"
   ]
  },
  {
   "cell_type": "markdown",
   "metadata": {},
   "source": [
    "Изучим, как меняется концентрация металлов (Au, Ag, Pb) на различных этапах очистки."
   ]
  },
  {
   "cell_type": "code",
   "execution_count": 13,
   "metadata": {},
   "outputs": [
    {
     "name": "stdout",
     "output_type": "stream",
     "text": [
      "Медианая концентрация в Входное сырье = 8.125838836648287\n",
      "Медианая концентрация в Черн. конц. = 20.280214025891475\n",
      "Медианая концентрация в Первичная обр. = 32.841295480233306\n",
      "Медианая концентрация в Конечн. продукт = 45.01124391455689\n"
     ]
    },
    {
     "data": {
      "image/png": "[encoded data removed]",
      "text/plain": [
       "<Figure size 1200x200 with 1 Axes>"
      ]
     },
     "metadata": {},
     "output_type": "display_data"
    },
    {
     "data": {
      "image/png": "[encoded data removed]",
      "text/plain": [
       "<Figure size 1200x300 with 1 Axes>"
      ]
     },
     "metadata": {},
     "output_type": "display_data"
    }
   ],
   "source": [
    "au_concentration_stages = data_full[['rougher.input.feed_au', 'rougher.output.concentrate_au', \n",
    "                                     'primary_cleaner.output.concentrate_au', 'final.output.concentrate_au']]\n",
    "concentration_labels = ['Входное сырье','Черн. конц.', 'Первичная обр.', 'Конечн. продукт']\n",
    "\n",
    "[print(f'Медианая концентрация в {l} = {c}') for l, c in zip(concentration_labels, list(au_concentration_stages.median()))]\n",
    "\n",
    "plt.figure(figsize=(12,2))\n",
    "plt.title(\"Поэтапная концентрация Au (золота)\")\n",
    "plt.boxplot(au_concentration_stages, labels=concentration_labels, vert=False, patch_artist=True)  \n",
    "plt.xlabel(\"Значения концентрации\")\n",
    "plt.show()\n",
    "\n",
    "plt.figure(figsize=(12,3))\n",
    "plt.hist(au_concentration_stages, label=concentration_labels, bins=50, alpha = 0.5, histtype='stepfilled', density=True)\n",
    "plt.legend(loc='upper right')\n",
    "plt.ylabel(\"Плотность\")\n",
    "plt.xlabel(\"Значения концентрации\")\n",
    "plt.show()"
   ]
  },
  {
   "cell_type": "markdown",
   "metadata": {},
   "source": [
    "От этапа к этапу концентрация золота растет. В этом и есть основная функция предприятия. Скачок от 8% до 45% - впечатляющий результат."
   ]
  },
  {
   "cell_type": "code",
   "execution_count": 14,
   "metadata": {},
   "outputs": [
    {
     "name": "stdout",
     "output_type": "stream",
     "text": [
      "Медианая концентрация в Входное сырье = 8.593574167368724\n",
      "Медианая концентрация в Черн. конц. = 12.098114967346191\n",
      "Медианая концентрация в Первичная обр. = 8.507297972365805\n",
      "Медианая концентрация в Конечн. продукт = 5.066039118467836\n"
     ]
    },
    {
     "data": {
      "image/png": "[encoded data removed]",
      "text/plain": [
       "<Figure size 1200x200 with 1 Axes>"
      ]
     },
     "metadata": {},
     "output_type": "display_data"
    },
    {
     "data": {
      "image/png": "[encoded data removed]",
      "text/plain": [
       "<Figure size 1200x300 with 1 Axes>"
      ]
     },
     "metadata": {},
     "output_type": "display_data"
    }
   ],
   "source": [
    "ag_concentration_stages = data_full[['rougher.input.feed_ag', 'rougher.output.concentrate_ag', \n",
    "                                     'primary_cleaner.output.concentrate_ag', 'final.output.concentrate_ag']]\n",
    "\n",
    "[print(f'Медианая концентрация в {l} = {c}') for l, c in zip(concentration_labels, list(ag_concentration_stages.median()))]\n",
    "\n",
    "plt.figure(figsize=(12,2))\n",
    "plt.title(\"Поэтапная концентрация Ag (серебра)\")\n",
    "plt.boxplot(ag_concentration_stages, labels=concentration_labels, vert=False, patch_artist=True)  \n",
    "plt.xlabel(\"Значения концентрации\")\n",
    "plt.show()\n",
    "\n",
    "plt.figure(figsize=(12,3))\n",
    "plt.hist(ag_concentration_stages, label=concentration_labels, bins=50, alpha = 0.5, histtype='stepfilled', density=True)\n",
    "plt.legend(loc='upper right')\n",
    "plt.ylabel(\"Плотность\")\n",
    "plt.xlabel(\"Значения концентрации\")\n",
    "plt.show()"
   ]
  },
  {
   "cell_type": "markdown",
   "metadata": {},
   "source": [
    "А вот концентрация серебра падает. Концентрация серебра на начальном сырье, такая-же как и золота."
   ]
  },
  {
   "cell_type": "code",
   "execution_count": 15,
   "metadata": {},
   "outputs": [
    {
     "name": "stdout",
     "output_type": "stream",
     "text": [
      "Медианая концентрация в Входное сырье = 3.5282347219520145\n",
      "Медианая концентрация в Черн. конц. = 7.742580079502529\n",
      "Медианая концентрация в Первичная обр. = 10.142270415359071\n",
      "Медианая концентрация в Конечн. продукт = 10.10226350598865\n"
     ]
    },
    {
     "data": {
      "image/png": "[encoded data removed]",
      "text/plain": [
       "<Figure size 1200x200 with 1 Axes>"
      ]
     },
     "metadata": {},
     "output_type": "display_data"
    },
    {
     "data": {
      "image/png": "[encoded data removed]",
      "text/plain": [
       "<Figure size 1200x300 with 1 Axes>"
      ]
     },
     "metadata": {},
     "output_type": "display_data"
    }
   ],
   "source": [
    "pb_concentration_stages = data_full[['rougher.input.feed_pb', 'rougher.output.concentrate_pb',\n",
    "                                    'primary_cleaner.output.concentrate_pb', 'final.output.concentrate_pb']]\n",
    "\n",
    "[print(f'Медианая концентрация в {l} = {c}') for l, c in zip(concentration_labels, list(pb_concentration_stages.median()))]\n",
    "\n",
    "plt.figure(figsize=(12,2))\n",
    "plt.title(\"Поэтапная концентрация Pb (свинца)\")\n",
    "plt.boxplot(pb_concentration_stages, labels=concentration_labels, vert=False, patch_artist=True)  \n",
    "plt.xlabel(\"Значения концентрации\")\n",
    "plt.show()\n",
    "\n",
    "plt.figure(figsize=(12,3))\n",
    "plt.hist(pb_concentration_stages, label=concentration_labels, bins=50, alpha = 0.5, histtype='stepfilled', density=True)\n",
    "plt.legend(loc='upper right')\n",
    "plt.ylabel(\"Плотность\")\n",
    "plt.xlabel(\"Значения концентрации\")\n",
    "plt.show()"
   ]
  },
  {
   "cell_type": "markdown",
   "metadata": {},
   "source": [
    "Во входном сырье концентрация свинца самая низкая. Далее увеличивается и держится примерно на одном уровне. Свинец - это побочный элемент химических реакций, по этой причине немного и увеличивается его концентрация"
   ]
  },
  {
   "cell_type": "markdown",
   "metadata": {},
   "source": [
    "### Размер гранул"
   ]
  },
  {
   "cell_type": "markdown",
   "metadata": {},
   "source": [
    "Сравним распределения размеров гранул сырья на обучающей и тестовой выборках"
   ]
  },
  {
   "cell_type": "code",
   "execution_count": 16,
   "metadata": {},
   "outputs": [
    {
     "name": "stdout",
     "output_type": "stream",
     "text": [
      "Медианный размер в Тренировочная выборка = 55.269783890501536\n",
      "Медианный размер в Тестовая выборка = 50.8468431600362\n"
     ]
    },
    {
     "data": {
      "image/png": "[encoded data removed]",
      "text/plain": [
       "<Figure size 1200x200 with 1 Axes>"
      ]
     },
     "metadata": {},
     "output_type": "display_data"
    },
    {
     "data": {
      "image/png": "[encoded data removed]",
      "text/plain": [
       "<Figure size 1200x300 with 1 Axes>"
      ]
     },
     "metadata": {},
     "output_type": "display_data"
    }
   ],
   "source": [
    "granule_size = [data_train['rougher.input.feed_size'], data_test['rougher.input.feed_size']]\n",
    "granule_size_labels = ['Тренировочная выборка', 'Тестовая выборка']\n",
    "\n",
    "[print(f'Медианный размер в {l} = {c.median()}') for l, c in zip(granule_size_labels,granule_size)]\n",
    "\n",
    "plt.figure(figsize=(12,2))\n",
    "plt.title(\"Распределение размера гранул сырья\")\n",
    "plt.boxplot(granule_size, labels=granule_size_labels, vert=False, patch_artist=True)  \n",
    "plt.xlabel(\"Значения размеров гранул\")\n",
    "plt.show()\n",
    "\n",
    "plt.figure(figsize=(12,3))\n",
    "plt.hist(granule_size, label=granule_size_labels, bins=50, alpha = 0.5, histtype='stepfilled', density=True)\n",
    "plt.legend(loc='upper right')\n",
    "plt.ylabel(\"Плотность\")\n",
    "plt.xlabel(\"Значения размеров гранул\")\n",
    "plt.show()"
   ]
  },
  {
   "cell_type": "markdown",
   "metadata": {},
   "source": [
    "Медианный размер гранул отличается не сильно, усы боксплота тоже примерно равны, однако в обеих выборках имеются большие выбросы."
   ]
  },
  {
   "cell_type": "markdown",
   "metadata": {},
   "source": [
    "### Cуммарная концентрация веществ"
   ]
  },
  {
   "cell_type": "markdown",
   "metadata": {},
   "source": [
    "Исследуем суммарную концентрацию всех веществ на разных стадиях: в сырье, в черновом и финальном концентратах"
   ]
  },
  {
   "cell_type": "code",
   "execution_count": 17,
   "metadata": {},
   "outputs": [
    {
     "name": "stdout",
     "output_type": "stream",
     "text": [
      "Медианная суммарная концентрация веществ Входное сырье = 57.594391040537595\n",
      "Медианная суммарная концентрация веществ Черн. конц. = 70.18149499793637\n",
      "Медианная суммарная концентрация веществ Конечн. продукт = 69.59844443247272\n"
     ]
    },
    {
     "data": {
      "image/png": "[encoded data removed]",
      "text/plain": [
       "<Figure size 1200x200 with 1 Axes>"
      ]
     },
     "metadata": {},
     "output_type": "display_data"
    },
    {
     "data": {
      "image/png": "[encoded data removed]",
      "text/plain": [
       "<Figure size 1200x300 with 1 Axes>"
      ]
     },
     "metadata": {},
     "output_type": "display_data"
    }
   ],
   "source": [
    "sum_concentrate_0 = data_full['rougher.input.feed_au'] + data_full['rougher.input.feed_ag'] + (\n",
    "    data_full['rougher.input.feed_pb'] + data_full['rougher.input.feed_sol'])\n",
    "sum_concentrate_rougher = data_full['rougher.output.concentrate_au'] + data_full['rougher.output.concentrate_ag'] + (\n",
    "    data_full['rougher.output.concentrate_pb'] + data_full['rougher.output.concentrate_sol'])\n",
    "sum_concentrate_final = data_full['final.output.concentrate_au'] + data_full['final.output.concentrate_ag'] + (\n",
    "    data_full['final.output.concentrate_pb'] + data_full['final.output.concentrate_sol'])\n",
    "sum_concentrate_stages = [sum_concentrate_0, sum_concentrate_rougher, sum_concentrate_final]\n",
    "\n",
    "total_concentration_labels=['Входное сырье','Черн. конц.', 'Конечн. продукт']\n",
    "\n",
    "[print(f'Медианная суммарная концентрация веществ {l} = {c.median()}') for l, c in zip(total_concentration_labels, \n",
    "                                                                                       sum_concentrate_stages)]\n",
    "plt.figure(figsize=(12,2))\n",
    "plt.title(\"Поэтапная концентрация всех веществ\")\n",
    "plt.boxplot(sum_concentrate_stages, labels=total_concentration_labels, vert=False, patch_artist=True)  \n",
    "plt.xlabel(\"Значения концентрации\")\n",
    "plt.show()\n",
    "\n",
    "plt.figure(figsize=(12,3))\n",
    "plt.hist(sum_concentrate_stages, label=total_concentration_labels, bins=50, alpha = 0.5, histtype='stepfilled', density=True)\n",
    "plt.legend(loc='upper right')\n",
    "plt.ylabel(\"Плотность\")\n",
    "plt.xlabel(\"Значения концентрации\")\n",
    "plt.show()"
   ]
  },
  {
   "cell_type": "markdown",
   "metadata": {},
   "source": [
    "Сначала концентрация веществ находится в районе 60, а в черновом и конечном продукте концентрация веществ держится в районе 70. \n",
    "Интересно отметить, что при равных медианах чернового концентрата и конечного продукта, у конечного продукта усы боксплота, примерно, в 2 раза меньше, интерквартильный размах гараздо уже и нету выбросов больше 80%.\n",
    "\n",
    "Однако, в данном случае, важно удалить аномалии по всем типам суммарных концентраций на обучающей выборке. Ведь отдельно по каждому веществу они могут быть (не всегда есть крупинки золота в руде), а вот суммарно - вряд ли (в руде хоть что-то но будет)."
   ]
  },
  {
   "cell_type": "markdown",
   "metadata": {},
   "source": [
    "Удалим из тренировочной выборки строки, в которых суммарная концентрация веществ меньше 30, 40, 50 на разных этапах."
   ]
  },
  {
   "cell_type": "code",
   "execution_count": 18,
   "metadata": {},
   "outputs": [],
   "source": [
    "for r in data_train.index: #удалим выбросы концентрации всех веществ из входного сырья\n",
    "    to_drop = np.sum(data_train.loc[r, ['rougher.input.feed_au', 'rougher.input.feed_ag', \\\n",
    "                                        'rougher.input.feed_pb', 'rougher.input.feed_sol']])\n",
    "    if to_drop < 5:\n",
    "        data_train = data_train.drop(axis=0, index=r)     "
   ]
  },
  {
   "cell_type": "code",
   "execution_count": 19,
   "metadata": {},
   "outputs": [],
   "source": [
    "for r in data_train.index: #удалим выбросы концентрации всех веществ из чернового концентрата\n",
    "    to_drop = np.sum(data_train.loc[r, ['rougher.output.concentrate_au', 'rougher.output.concentrate_ag', \\\n",
    "                                        'rougher.output.concentrate_pb', 'rougher.output.concentrate_sol']])\n",
    "    if to_drop < 5:\n",
    "        data_train = data_train.drop(axis=0, index=r)   "
   ]
  },
  {
   "cell_type": "code",
   "execution_count": 20,
   "metadata": {},
   "outputs": [],
   "source": [
    "for r in data_train.index: #удалим выбросы концентрации всех веществ из конечного продукта\n",
    "    to_drop = np.sum(data_train.loc[r, ['final.output.concentrate_au', 'final.output.concentrate_ag', \\\n",
    "                                        'final.output.concentrate_pb', 'final.output.concentrate_sol']])\n",
    "    if to_drop < 5:\n",
    "        data_train = data_train.drop(axis=0, index=r)   "
   ]
  },
  {
   "cell_type": "markdown",
   "metadata": {},
   "source": [
    "Определим сколько данных мы удалили."
   ]
  },
  {
   "cell_type": "code",
   "execution_count": 21,
   "metadata": {},
   "outputs": [
    {
     "name": "stdout",
     "output_type": "stream",
     "text": [
      "Строк было: 14149\n",
      "Строк стало: 13787\n",
      "Строк удалено: 362 шт. или 2.6%\n"
     ]
    }
   ],
   "source": [
    "print('Строк было:', 14149)\n",
    "print('Строк стало:', len(data_train))\n",
    "print('Строк удалено:', 14149-len(data_train), 'шт. или', \"{:.1%}\".format((14149-len(data_train))/14149))"
   ]
  },
  {
   "cell_type": "markdown",
   "metadata": {},
   "source": [
    "Много, но не критично."
   ]
  },
  {
   "cell_type": "markdown",
   "metadata": {},
   "source": [
    "## Модель"
   ]
  },
  {
   "cell_type": "markdown",
   "metadata": {},
   "source": [
    "### Функция итоговой sMAPE"
   ]
  },
  {
   "cell_type": "markdown",
   "metadata": {},
   "source": [
    "Для решения задачи будем использовать метрику sMAPE (англ. Symmetric Mean Absolute Percentage Error, «симметричное среднее абсолютное процентное отклонение»).\n",
    "Она похожа на MAE, но выражается не в абсолютных величинах, а в относительных. Она одинаково учитывает масштаб и целевого признака, и предсказания.\n",
    "\n",
    "Метрика sMAPE вычисляется так:"
   ]
  },
  {
   "attachments": {
    "sMAPE.png": {
     "image/png": "[encoded data removed]"
    }
   },
   "cell_type": "markdown",
   "metadata": {},
   "source": [
    "![sMAPE.png](attachment:sMAPE.png)"
   ]
  },
  {
   "cell_type": "markdown",
   "metadata": {},
   "source": [
    "где:\n",
    "\n",
    "- $y_i$ - значение целевого признака для объекта с порядковым номером i в выборке, на которой измеряется качество;\n",
    "- $\\widehat{y_i}$ - значение предсказания для объекта с порядковым номером i;\n",
    "- $N$ - количество объектов в выборке;\n",
    "- $\\displaystyle\\sum_{i=1}^{N}$ - cуммирование по всем объектам выборки (i меняется от 1 до N).\n"
   ]
  },
  {
   "cell_type": "markdown",
   "metadata": {},
   "source": [
    "Напишем функцию для вычисления sMAPE."
   ]
  },
  {
   "cell_type": "code",
   "execution_count": 22,
   "metadata": {},
   "outputs": [],
   "source": [
    "def smape(act, forc):\n",
    "    return 1/ len (act) * np.sum(2 * np.abs(forc-act) / (np.abs(act) + np.abs(forc))*100)"
   ]
  },
  {
   "cell_type": "markdown",
   "metadata": {},
   "source": [
    "Итоговая метрика складывается из двух величин:"
   ]
  },
  {
   "attachments": {
    "%D0%98%D1%82%D0%BE%D0%B3%D0%BE%D0%B2%D0%BE%D0%B5%20sMAPE.png": {
     "image/png": "[encoded data removed]"
    }
   },
   "cell_type": "markdown",
   "metadata": {},
   "source": [
    "![%D0%98%D1%82%D0%BE%D0%B3%D0%BE%D0%B2%D0%BE%D0%B5%20sMAPE.png](attachment:%D0%98%D1%82%D0%BE%D0%B3%D0%BE%D0%B2%D0%BE%D0%B5%20sMAPE.png)"
   ]
  },
  {
   "cell_type": "markdown",
   "metadata": {},
   "source": [
    "Напишем функцию для вычисления итогового sMAPE."
   ]
  },
  {
   "cell_type": "code",
   "execution_count": 23,
   "metadata": {},
   "outputs": [],
   "source": [
    "def final_smape(rou, fin):\n",
    "    return 0.25*rou + 0.75*fin"
   ]
  },
  {
   "cell_type": "markdown",
   "metadata": {},
   "source": [
    "### Подготовка данных к обучнию моделей."
   ]
  },
  {
   "cell_type": "markdown",
   "metadata": {},
   "source": [
    "Перед нами стоит задача спрогнозировать сразу две величины:\n",
    "- эффективность обогащения чернового концентрата `rougher.output.concentrate_ag`;\n",
    "- эффективность обогащения финального концентрата `final.output.concentrate_au`.\n",
    "\n",
    "И затем вычислить итоговую sMAPE.\n",
    "\n",
    "Для начала нужно избавиться от столбцов в тренировочной выборке, которые отсутствуют в тестовой.\n",
    "\n",
    "Для определения каждого целевого признака нужны данные предшествующие этому этапу. Для эффективности обогащения чернового концентрата это только `rougher.input` и `rougher.state`."
   ]
  },
  {
   "cell_type": "code",
   "execution_count": 24,
   "metadata": {},
   "outputs": [],
   "source": [
    "features_test_final = data_test.copy()\n",
    "features_train_final = data_train.drop(axis = 1, \n",
    "                                       columns = [col for col in data_train.columns if col not in data_test.columns])"
   ]
  },
  {
   "cell_type": "markdown",
   "metadata": {},
   "source": [
    "Масштабируем данные."
   ]
  },
  {
   "cell_type": "code",
   "execution_count": 25,
   "metadata": {},
   "outputs": [],
   "source": [
    "numeric = [col for col in features_train_final.columns if col in features_test_final.columns]"
   ]
  },
  {
   "cell_type": "code",
   "execution_count": 26,
   "metadata": {},
   "outputs": [],
   "source": [
    "scaler = StandardScaler()\n",
    "\n",
    "scaler.fit(data_train[numeric])\n",
    "features_train_final[numeric] = scaler.transform(data_train[numeric])\n",
    "features_test_final[numeric] = scaler.transform(data_test[numeric])"
   ]
  },
  {
   "cell_type": "markdown",
   "metadata": {},
   "source": [
    "Для определения эффективности обогащения чернового концентрата создадим новые датасеты без лишних столбцов."
   ]
  },
  {
   "cell_type": "code",
   "execution_count": 27,
   "metadata": {},
   "outputs": [],
   "source": [
    "rougher_col_to_drop = []\n",
    "for x in features_train_final.columns:\n",
    "    if not ('rougher.input' in x or 'rougher.state' in x):  \n",
    "        rougher_col_to_drop.append(x)"
   ]
  },
  {
   "cell_type": "code",
   "execution_count": 28,
   "metadata": {},
   "outputs": [],
   "source": [
    "features_train_rougher = features_train_final.drop(axis = 1, columns = rougher_col_to_drop)"
   ]
  },
  {
   "cell_type": "code",
   "execution_count": 29,
   "metadata": {},
   "outputs": [],
   "source": [
    "features_test_rougher = features_test_final.drop(axis = 1, columns = rougher_col_to_drop)"
   ]
  },
  {
   "cell_type": "markdown",
   "metadata": {},
   "source": [
    "Выберем из `data_full` подходящие целевые показатели для подготовленных признаков."
   ]
  },
  {
   "cell_type": "code",
   "execution_count": 30,
   "metadata": {},
   "outputs": [],
   "source": [
    "target_train_rougher = data_train.merge(data_full[['rougher.output.concentrate_au']], how = 'inner', on= 'date')\n",
    "target_train_rougher = target_train_rougher['rougher.output.concentrate_au_x']"
   ]
  },
  {
   "cell_type": "code",
   "execution_count": 31,
   "metadata": {},
   "outputs": [],
   "source": [
    "target_test_rougher = data_test.merge(data_full[['rougher.output.concentrate_au']], how = 'inner', on= 'date')\n",
    "target_test_rougher = target_test_rougher['rougher.output.concentrate_au']"
   ]
  },
  {
   "cell_type": "code",
   "execution_count": 32,
   "metadata": {},
   "outputs": [],
   "source": [
    "target_train_final = data_train.merge(data_full[['final.output.concentrate_au']], how = 'inner', on= 'date')\n",
    "target_train_final = target_train_final['final.output.concentrate_au_x']"
   ]
  },
  {
   "cell_type": "code",
   "execution_count": 33,
   "metadata": {},
   "outputs": [],
   "source": [
    "target_test_final = data_test.merge(data_full[['final.output.concentrate_au']], how = 'inner', on= 'date')\n",
    "target_test_final = target_test_final['final.output.concentrate_au']"
   ]
  },
  {
   "cell_type": "markdown",
   "metadata": {},
   "source": [
    "### Выбор лучшей модели"
   ]
  },
  {
   "cell_type": "markdown",
   "metadata": {},
   "source": [
    "Для выполнения нашей задачи нужна модель, которая будет одинаково хорошо справляться с определением как чернового, так и финального концентрата. Метрикой для моделей будет sMAPE."
   ]
  },
  {
   "cell_type": "markdown",
   "metadata": {},
   "source": [
    "Подберем гиперпараметры для модели **Дерева решений**."
   ]
  },
  {
   "cell_type": "code",
   "execution_count": 34,
   "metadata": {},
   "outputs": [
    {
     "name": "stdout",
     "output_type": "stream",
     "text": [
      "Средний sMAPE наилучшей модели: 7.092939433858742\n",
      "Максимальная глубина: 3\n"
     ]
    }
   ],
   "source": [
    "best_tree_result = 100\n",
    "best_tree_depth = 0\n",
    "\n",
    "for depth in range(1, 10):\n",
    "    tree_model = DecisionTreeRegressor(random_state=RANDOM_STATE, max_depth=depth)\n",
    "    tree_predictions_final = cross_val_predict(tree_model, features_train_final, target_train_final, cv=3)\n",
    "    tree_result_final = smape(target_train_final, tree_predictions_final)\n",
    "    tree_predictions_rougher = cross_val_predict(tree_model, features_train_rougher, target_train_rougher, cv=3)\n",
    "    tree_result_rougher = smape(target_train_rougher, tree_predictions_rougher)    \n",
    "    tree_result = final_smape(tree_result_rougher, tree_result_final)\n",
    "    if tree_result < best_tree_result:\n",
    "        best_tree_result = tree_result\n",
    "        best_tree_depth = depth\n",
    "        \n",
    "best_tree_model = DecisionTreeRegressor(random_state=RANDOM_STATE, max_depth=best_tree_depth)\n",
    "       \n",
    "print (\"Средний sMAPE наилучшей модели:\", best_tree_result)   \n",
    "print (\"Максимальная глубина:\", round(best_tree_depth, 2)) "
   ]
  },
  {
   "cell_type": "markdown",
   "metadata": {},
   "source": [
    "Подберем гиперпараметры для модели **Catboost**."
   ]
  },
  {
   "cell_type": "code",
   "execution_count": 35,
   "metadata": {},
   "outputs": [
    {
     "name": "stdout",
     "output_type": "stream",
     "text": [
      "Средний sMAPE модели: 6.78\n",
      "Максимальная глубина: 1\n",
      "Количество итераций: 100\n",
      "Скорость обучения: 0.1\n"
     ]
    }
   ],
   "source": [
    "best_cat_result = 20000\n",
    "best_cat_lr = 0\n",
    "best_cat_deapth = 0\n",
    "best_cat_iterations = 0\n",
    "best_cat_model = None\n",
    "\n",
    "for lr in [0.1, 0.3, 0.5]:\n",
    "    for dp in [1, 5, 10]:\n",
    "        for itr in [25, 50, 100]:\n",
    "            cat_model = cb.CatBoostRegressor(random_state=RANDOM_STATE, loss_function='RMSE', \n",
    "                                             iterations=itr, depth=dp, learning_rate=lr, verbose=0)\n",
    "            cat_predictions_final = cross_val_predict(cat_model, features_train_final, target_train_final, cv=3)\n",
    "            cat_result_final = smape(target_train_final, cat_predictions_final)\n",
    "            cat_predictions_rougher = cross_val_predict(cat_model, features_train_rougher, target_train_rougher, cv=3)\n",
    "            cat_result_rougher = smape(target_train_rougher, cat_predictions_rougher)\n",
    "            cat_result = final_smape(cat_result_rougher, cat_result_final)        \n",
    "            if cat_result < best_cat_result:\n",
    "                best_cat_model = cat_model\n",
    "                best_cat_result = cat_result\n",
    "                best_cat_deapth = dp\n",
    "                best_cat_iterations = itr\n",
    "                best_cat_lr = lr\n",
    "\n",
    "            \n",
    "print (\"Средний sMAPE модели:\", round(best_cat_result, 2))   \n",
    "print (\"Максимальная глубина:\", best_cat_deapth)\n",
    "print (\"Количество итераций:\", best_cat_iterations) \n",
    "print (\"Скорость обучения:\", best_cat_lr)"
   ]
  },
  {
   "cell_type": "markdown",
   "metadata": {},
   "source": [
    "Узнаем результаты модели **Линейной регрессии**."
   ]
  },
  {
   "cell_type": "code",
   "execution_count": 36,
   "metadata": {},
   "outputs": [
    {
     "name": "stdout",
     "output_type": "stream",
     "text": [
      "Средний sMAPE модели: 8.36\n"
     ]
    }
   ],
   "source": [
    "linear_model = LinearRegression() \n",
    "linear_predictions_final = cross_val_predict(linear_model, features_train_final, target_train_final, cv=3)\n",
    "linear_result_final = smape(target_train_final, linear_predictions_final)\n",
    "linear_predictions_rougher = cross_val_predict(linear_model, features_train_rougher, target_train_rougher, cv=3)\n",
    "linear_result_rougher = smape(target_train_rougher, linear_predictions_rougher)\n",
    "linear_result = final_smape(linear_result_rougher, linear_result_final)\n",
    "\n",
    "print (\"Средний sMAPE модели:\", round(linear_result, 2)) "
   ]
  },
  {
   "cell_type": "markdown",
   "metadata": {},
   "source": [
    "У моделей Линейной регрессии и Catboost самые лучшие показатели, но Линейная регрессия работает в разы быстрее, поэтому будем использовать именно ее для итоговой проверки."
   ]
  },
  {
   "cell_type": "markdown",
   "metadata": {},
   "source": [
    "### Итоговая проверка"
   ]
  },
  {
   "cell_type": "markdown",
   "metadata": {},
   "source": [
    "Пришло время итоговой проверки. Проверим лучшую модель на тестовой выборке."
   ]
  },
  {
   "cell_type": "code",
   "execution_count": 40,
   "metadata": {},
   "outputs": [
    {
     "name": "stdout",
     "output_type": "stream",
     "text": [
      "sMAPE на тестовой выборке: 8.35\n"
     ]
    }
   ],
   "source": [
    "linear_model.fit(features_train_final, target_train_final)\n",
    "final_test_predictions =  linear_model.predict(features_test_final)\n",
    "\n",
    "linear_model.fit(features_train_rougher, target_train_rougher)\n",
    "rougher_test_predictions =  linear_model.predict(features_test_rougher)\n",
    "\n",
    "final_result = final_smape(smape(target_test_rougher,rougher_test_predictions),\\\n",
    "                           smape(target_test_final,final_test_predictions))\n",
    "\n",
    "print (\"sMAPE на тестовой выборке:\", round(final_result, 2)) "
   ]
  },
  {
   "cell_type": "markdown",
   "metadata": {},
   "source": [
    "Итоговое симметричное среднее отклонение равно 8.35%.\n",
    "\n",
    "Сравним этот показатель с константной моделью."
   ]
  },
  {
   "cell_type": "code",
   "execution_count": 38,
   "metadata": {},
   "outputs": [
    {
     "name": "stdout",
     "output_type": "stream",
     "text": [
      "sMAPE константной модели: 8.42\n"
     ]
    }
   ],
   "source": [
    "constant_test_final = [target_test_final.mean()]*len(target_test_final)\n",
    "constant_test_rougher = [target_test_rougher.mean()]*len(target_test_rougher)\n",
    "\n",
    "constant_final_result = final_smape(smape(target_test_rougher,constant_test_rougher),\\\n",
    "                                    smape(target_test_final,constant_test_final))\n",
    "\n",
    "print (\"sMAPE константной модели:\", round(constant_final_result, 2))"
   ]
  },
  {
   "cell_type": "markdown",
   "metadata": {},
   "source": [
    "## Вывод"
   ]
  },
  {
   "cell_type": "markdown",
   "metadata": {},
   "source": [
    "  Перед нами стояла задача создать модель, которая сможет предсказать коэффициент восстановления золота из золотосодержащей руды. Модель со своей задачей справляется, но работает немногим лучше константной модели. Так скажем, есть куда расти. \n",
    "  \n",
    "  Исследование данных привело к выводу, что предоставленные заказачиком данные являются недостоверными. Следует обратить внимание на корректность концентраций и имеющиеся пропуски. Так-же стоит обратить внимание на аномальные значения, уточнить у технолога, нормальны ли такие выбросы. Судя по гистрограмме концентрации металлов, напрашивается вывод, что имеется явная ошибка, нулевые значения концентрации в руде возможны, но они явно выходят за рамки нормального распределения. \n",
    "  \n",
    "  Для финального тестирования была выбрана модель линейной т.к. использует все признаки, в отличие от одноуровневого решающего дерева, поэтому будет более устойчивым при различных сочетаниях признаков. И работает в разы быстрее, чем модель Catboost.\n",
    "  \n",
    "  Итоговая sMAPE при тестировании модели линейной регресии составила 8.35%"
   ]
  },
  {
   "cell_type": "markdown",
   "metadata": {},
   "source": [
    "*Проект окончен.*\n",
    "\n",
    "***Спасибо за уделенное работе время!***"
   ]
  }
 ],
 "metadata": {
  "ExecuteTimeLog": [
   {
    "duration": 35,
    "start_time": "2023-03-17T08:41:40.933Z"
   },
   {
    "duration": 1294,
    "start_time": "2023-03-17T09:20:59.917Z"
   },
   {
    "duration": 3,
    "start_time": "2023-03-17T09:21:01.215Z"
   },
   {
    "duration": 2052,
    "start_time": "2023-03-17T09:21:01.220Z"
   },
   {
    "duration": 42,
    "start_time": "2023-03-17T09:21:03.273Z"
   },
   {
    "duration": 8,
    "start_time": "2023-03-17T09:21:03.316Z"
   },
   {
    "duration": 6978,
    "start_time": "2023-03-17T09:21:03.326Z"
   },
   {
    "duration": 17008,
    "start_time": "2023-03-17T09:21:10.306Z"
   },
   {
    "duration": 1741,
    "start_time": "2023-03-17T09:21:27.316Z"
   },
   {
    "duration": 9320,
    "start_time": "2023-03-17T09:21:29.058Z"
   },
   {
    "duration": 322,
    "start_time": "2023-03-17T09:21:38.386Z"
   },
   {
    "duration": 8,
    "start_time": "2023-03-17T09:21:38.710Z"
   },
   {
    "duration": 14,
    "start_time": "2023-03-17T09:21:38.719Z"
   },
   {
    "duration": 177,
    "start_time": "2023-03-17T09:21:38.735Z"
   },
   {
    "duration": 134,
    "start_time": "2023-03-17T09:21:38.913Z"
   },
   {
    "duration": 220,
    "start_time": "2023-03-17T09:21:39.048Z"
   },
   {
    "duration": 119,
    "start_time": "2023-03-17T09:21:39.269Z"
   },
   {
    "duration": 131,
    "start_time": "2023-03-17T09:21:39.390Z"
   },
   {
    "duration": 4,
    "start_time": "2023-03-17T09:21:39.522Z"
   },
   {
    "duration": 11,
    "start_time": "2023-03-17T09:21:39.528Z"
   },
   {
    "duration": 6,
    "start_time": "2023-03-17T09:21:39.541Z"
   },
   {
    "duration": 14,
    "start_time": "2023-03-17T09:21:39.549Z"
   },
   {
    "duration": 22,
    "start_time": "2023-03-17T09:21:39.564Z"
   },
   {
    "duration": 14,
    "start_time": "2023-03-17T09:21:39.595Z"
   },
   {
    "duration": 31,
    "start_time": "2023-03-17T09:21:39.611Z"
   },
   {
    "duration": 4,
    "start_time": "2023-03-17T09:21:39.643Z"
   },
   {
    "duration": 10,
    "start_time": "2023-03-17T09:21:39.649Z"
   },
   {
    "duration": 8,
    "start_time": "2023-03-17T09:21:39.661Z"
   },
   {
    "duration": 6,
    "start_time": "2023-03-17T09:21:39.671Z"
   },
   {
    "duration": 26,
    "start_time": "2023-03-17T09:21:39.678Z"
   },
   {
    "duration": 6,
    "start_time": "2023-03-17T09:21:39.705Z"
   },
   {
    "duration": 5,
    "start_time": "2023-03-17T09:21:39.713Z"
   },
   {
    "duration": 42,
    "start_time": "2023-03-17T10:26:15.665Z"
   },
   {
    "duration": 137,
    "start_time": "2023-03-17T10:26:36.468Z"
   },
   {
    "duration": 8,
    "start_time": "2023-03-17T10:26:42.650Z"
   },
   {
    "duration": 962,
    "start_time": "2023-03-17T10:27:18.797Z"
   },
   {
    "duration": 1513,
    "start_time": "2023-03-17T10:27:29.848Z"
   },
   {
    "duration": 21,
    "start_time": "2023-03-17T10:27:48.550Z"
   },
   {
    "duration": 1513,
    "start_time": "2023-03-17T10:28:19.966Z"
   },
   {
    "duration": 40,
    "start_time": "2023-03-17T10:28:29.267Z"
   },
   {
    "duration": 3,
    "start_time": "2023-03-17T10:28:54.869Z"
   },
   {
    "duration": 3,
    "start_time": "2023-03-17T10:28:55.148Z"
   },
   {
    "duration": 2123,
    "start_time": "2023-03-17T10:28:55.399Z"
   },
   {
    "duration": 41,
    "start_time": "2023-03-17T10:28:57.524Z"
   },
   {
    "duration": 13,
    "start_time": "2023-03-17T10:28:57.567Z"
   },
   {
    "duration": 7379,
    "start_time": "2023-03-17T10:28:57.582Z"
   },
   {
    "duration": 23014,
    "start_time": "2023-03-17T10:29:04.962Z"
   },
   {
    "duration": 1995,
    "start_time": "2023-03-17T10:29:27.977Z"
   },
   {
    "duration": 9990,
    "start_time": "2023-03-17T10:29:29.973Z"
   },
   {
    "duration": 283,
    "start_time": "2023-03-17T10:29:39.966Z"
   },
   {
    "duration": 6,
    "start_time": "2023-03-17T10:29:40.251Z"
   },
   {
    "duration": 6,
    "start_time": "2023-03-17T10:29:40.260Z"
   },
   {
    "duration": 179,
    "start_time": "2023-03-17T10:29:40.279Z"
   },
   {
    "duration": 164,
    "start_time": "2023-03-17T10:29:40.460Z"
   },
   {
    "duration": 165,
    "start_time": "2023-03-17T10:29:40.626Z"
   },
   {
    "duration": 150,
    "start_time": "2023-03-17T10:29:40.793Z"
   },
   {
    "duration": 128,
    "start_time": "2023-03-17T10:29:40.944Z"
   },
   {
    "duration": 9,
    "start_time": "2023-03-17T10:29:41.074Z"
   },
   {
    "duration": 19,
    "start_time": "2023-03-17T10:29:41.097Z"
   },
   {
    "duration": 24,
    "start_time": "2023-03-17T10:29:41.117Z"
   },
   {
    "duration": 7,
    "start_time": "2023-03-17T10:30:02.522Z"
   },
   {
    "duration": 12,
    "start_time": "2023-03-17T10:33:24.738Z"
   },
   {
    "duration": 11,
    "start_time": "2023-03-17T10:34:49.313Z"
   },
   {
    "duration": 11,
    "start_time": "2023-03-17T10:35:50.234Z"
   },
   {
    "duration": 10,
    "start_time": "2023-03-17T10:36:22.722Z"
   },
   {
    "duration": 12,
    "start_time": "2023-03-17T10:36:36.996Z"
   },
   {
    "duration": 1274,
    "start_time": "2023-03-17T12:11:49.902Z"
   },
   {
    "duration": 3,
    "start_time": "2023-03-17T12:11:51.178Z"
   },
   {
    "duration": 2322,
    "start_time": "2023-03-17T12:11:51.183Z"
   },
   {
    "duration": 41,
    "start_time": "2023-03-17T12:11:53.507Z"
   },
   {
    "duration": 11,
    "start_time": "2023-03-17T12:11:53.550Z"
   },
   {
    "duration": 7142,
    "start_time": "2023-03-17T12:11:57.270Z"
   },
   {
    "duration": 19187,
    "start_time": "2023-03-17T12:12:04.414Z"
   },
   {
    "duration": 1919,
    "start_time": "2023-03-17T12:12:23.603Z"
   },
   {
    "duration": 9018,
    "start_time": "2023-03-17T12:12:25.524Z"
   },
   {
    "duration": 16,
    "start_time": "2023-03-17T12:26:11.345Z"
   },
   {
    "duration": 4,
    "start_time": "2023-03-17T12:26:14.938Z"
   },
   {
    "duration": 3,
    "start_time": "2023-03-17T12:26:15.239Z"
   },
   {
    "duration": 2295,
    "start_time": "2023-03-17T12:26:15.602Z"
   },
   {
    "duration": 41,
    "start_time": "2023-03-17T12:26:17.899Z"
   },
   {
    "duration": 15,
    "start_time": "2023-03-17T12:26:17.942Z"
   },
   {
    "duration": 7507,
    "start_time": "2023-03-17T12:26:17.961Z"
   },
   {
    "duration": 20296,
    "start_time": "2023-03-17T12:26:25.472Z"
   },
   {
    "duration": 1855,
    "start_time": "2023-03-17T12:26:45.770Z"
   },
   {
    "duration": 9060,
    "start_time": "2023-03-17T12:26:47.627Z"
   },
   {
    "duration": 15,
    "start_time": "2023-03-17T12:26:56.689Z"
   },
   {
    "duration": 23,
    "start_time": "2023-03-17T12:27:13.406Z"
   },
   {
    "duration": 139,
    "start_time": "2023-03-17T13:00:17.858Z"
   },
   {
    "duration": 16,
    "start_time": "2023-03-17T13:03:52.403Z"
   },
   {
    "duration": 8,
    "start_time": "2023-03-17T13:04:24.275Z"
   },
   {
    "duration": 3,
    "start_time": "2023-03-17T13:04:35.430Z"
   },
   {
    "duration": 15,
    "start_time": "2023-03-17T13:04:39.929Z"
   },
   {
    "duration": 6,
    "start_time": "2023-03-17T13:04:50.330Z"
   },
   {
    "duration": 7,
    "start_time": "2023-03-17T13:05:22.013Z"
   },
   {
    "duration": 9,
    "start_time": "2023-03-17T13:06:27.281Z"
   },
   {
    "duration": 51,
    "start_time": "2023-03-17T13:06:35.591Z"
   },
   {
    "duration": 716,
    "start_time": "2023-03-17T13:07:10.156Z"
   },
   {
    "duration": 726,
    "start_time": "2023-03-17T13:07:44.032Z"
   },
   {
    "duration": 45,
    "start_time": "2023-03-17T13:08:09.810Z"
   },
   {
    "duration": 50,
    "start_time": "2023-03-17T13:11:32.996Z"
   },
   {
    "duration": 48,
    "start_time": "2023-03-17T13:13:11.699Z"
   },
   {
    "duration": 47,
    "start_time": "2023-03-17T13:13:46.488Z"
   },
   {
    "duration": 782,
    "start_time": "2023-03-17T13:14:58.068Z"
   },
   {
    "duration": 25,
    "start_time": "2023-03-17T13:15:25.436Z"
   },
   {
    "duration": 5,
    "start_time": "2023-03-17T13:20:43.591Z"
   },
   {
    "duration": 19,
    "start_time": "2023-03-17T13:25:11.638Z"
   },
   {
    "duration": 25,
    "start_time": "2023-03-17T13:30:44.206Z"
   },
   {
    "duration": 32,
    "start_time": "2023-03-17T13:34:25.489Z"
   },
   {
    "duration": 6,
    "start_time": "2023-03-17T13:34:32.711Z"
   },
   {
    "duration": 52,
    "start_time": "2023-03-17T13:39:07.300Z"
   },
   {
    "duration": 728,
    "start_time": "2023-03-17T13:39:35.429Z"
   },
   {
    "duration": 19,
    "start_time": "2023-03-17T13:39:44.528Z"
   },
   {
    "duration": 16,
    "start_time": "2023-03-17T13:40:33.236Z"
   },
   {
    "duration": 26,
    "start_time": "2023-03-17T13:40:39.322Z"
   },
   {
    "duration": 23,
    "start_time": "2023-03-17T13:41:24.809Z"
   },
   {
    "duration": 24,
    "start_time": "2023-03-17T13:41:29.439Z"
   },
   {
    "duration": 5,
    "start_time": "2023-03-17T13:41:40.801Z"
   },
   {
    "duration": 4,
    "start_time": "2023-03-17T13:41:40.953Z"
   },
   {
    "duration": 2189,
    "start_time": "2023-03-17T13:41:41.107Z"
   },
   {
    "duration": 42,
    "start_time": "2023-03-17T13:41:43.298Z"
   },
   {
    "duration": 16,
    "start_time": "2023-03-17T13:41:43.342Z"
   },
   {
    "duration": 7878,
    "start_time": "2023-03-17T13:41:43.360Z"
   },
   {
    "duration": 20180,
    "start_time": "2023-03-17T13:41:51.240Z"
   },
   {
    "duration": 1856,
    "start_time": "2023-03-17T13:42:11.422Z"
   },
   {
    "duration": 9394,
    "start_time": "2023-03-17T13:42:13.280Z"
   },
   {
    "duration": 12,
    "start_time": "2023-03-17T13:42:22.675Z"
   },
   {
    "duration": 45,
    "start_time": "2023-03-17T13:42:22.696Z"
   },
   {
    "duration": 309,
    "start_time": "2023-03-17T13:42:22.745Z"
   },
   {
    "duration": 6,
    "start_time": "2023-03-17T13:42:23.056Z"
   },
   {
    "duration": 13,
    "start_time": "2023-03-17T13:42:23.063Z"
   },
   {
    "duration": 219,
    "start_time": "2023-03-17T13:42:23.078Z"
   },
   {
    "duration": 229,
    "start_time": "2023-03-17T13:42:23.299Z"
   },
   {
    "duration": 179,
    "start_time": "2023-03-17T13:42:23.529Z"
   },
   {
    "duration": 199,
    "start_time": "2023-03-17T13:42:23.711Z"
   },
   {
    "duration": 217,
    "start_time": "2023-03-17T13:42:23.912Z"
   },
   {
    "duration": 4,
    "start_time": "2023-03-17T13:42:24.134Z"
   },
   {
    "duration": 20,
    "start_time": "2023-03-17T13:42:24.140Z"
   },
   {
    "duration": 21,
    "start_time": "2023-03-17T13:42:24.163Z"
   },
   {
    "duration": 41,
    "start_time": "2023-03-17T13:42:24.187Z"
   },
   {
    "duration": 37,
    "start_time": "2023-03-17T13:42:24.230Z"
   },
   {
    "duration": 52,
    "start_time": "2023-03-17T13:42:24.270Z"
   },
   {
    "duration": 55,
    "start_time": "2023-03-17T13:42:24.325Z"
   },
   {
    "duration": 5,
    "start_time": "2023-03-17T13:42:24.382Z"
   },
   {
    "duration": 39,
    "start_time": "2023-03-17T13:42:24.389Z"
   },
   {
    "duration": 23,
    "start_time": "2023-03-17T13:42:24.431Z"
   },
   {
    "duration": 33,
    "start_time": "2023-03-17T13:42:24.460Z"
   },
   {
    "duration": 17,
    "start_time": "2023-03-17T13:44:05.067Z"
   },
   {
    "duration": 16,
    "start_time": "2023-03-17T13:44:26.533Z"
   },
   {
    "duration": 5,
    "start_time": "2023-03-17T13:51:55.308Z"
   },
   {
    "duration": 3,
    "start_time": "2023-03-17T13:51:55.593Z"
   },
   {
    "duration": 3056,
    "start_time": "2023-03-17T13:51:55.748Z"
   },
   {
    "duration": 41,
    "start_time": "2023-03-17T13:51:58.807Z"
   },
   {
    "duration": 11,
    "start_time": "2023-03-17T13:51:58.849Z"
   },
   {
    "duration": 8209,
    "start_time": "2023-03-17T13:51:58.862Z"
   },
   {
    "duration": 22442,
    "start_time": "2023-03-17T13:52:07.073Z"
   },
   {
    "duration": 1951,
    "start_time": "2023-03-17T13:52:29.517Z"
   },
   {
    "duration": 9912,
    "start_time": "2023-03-17T13:52:31.470Z"
   },
   {
    "duration": 24,
    "start_time": "2023-03-17T13:52:41.384Z"
   },
   {
    "duration": 22,
    "start_time": "2023-03-17T13:52:41.416Z"
   },
   {
    "duration": 285,
    "start_time": "2023-03-17T13:52:41.441Z"
   },
   {
    "duration": 7,
    "start_time": "2023-03-17T13:52:41.728Z"
   },
   {
    "duration": 47,
    "start_time": "2023-03-17T13:52:41.737Z"
   },
   {
    "duration": 207,
    "start_time": "2023-03-17T13:52:41.786Z"
   },
   {
    "duration": 201,
    "start_time": "2023-03-17T13:52:41.995Z"
   },
   {
    "duration": 182,
    "start_time": "2023-03-17T13:52:42.197Z"
   },
   {
    "duration": 152,
    "start_time": "2023-03-17T13:52:42.381Z"
   },
   {
    "duration": 197,
    "start_time": "2023-03-17T13:52:42.535Z"
   },
   {
    "duration": 3,
    "start_time": "2023-03-17T13:52:42.735Z"
   },
   {
    "duration": 6,
    "start_time": "2023-03-17T13:52:42.741Z"
   },
   {
    "duration": 8,
    "start_time": "2023-03-17T13:52:55.781Z"
   },
   {
    "duration": 3,
    "start_time": "2023-03-17T13:52:57.718Z"
   },
   {
    "duration": 32,
    "start_time": "2023-03-17T13:53:24.622Z"
   },
   {
    "duration": 43,
    "start_time": "2023-03-17T13:56:35.492Z"
   },
   {
    "duration": 41,
    "start_time": "2023-03-17T13:56:41.522Z"
   },
   {
    "duration": 6,
    "start_time": "2023-03-17T13:57:10.834Z"
   },
   {
    "duration": 38,
    "start_time": "2023-03-17T13:57:12.430Z"
   },
   {
    "duration": 9,
    "start_time": "2023-03-17T13:57:30.015Z"
   },
   {
    "duration": 5,
    "start_time": "2023-03-17T13:57:30.471Z"
   },
   {
    "duration": 7,
    "start_time": "2023-03-17T13:57:30.858Z"
   },
   {
    "duration": 1231,
    "start_time": "2023-03-17T13:57:53.854Z"
   },
   {
    "duration": 65,
    "start_time": "2023-03-17T13:58:03.827Z"
   },
   {
    "duration": 67,
    "start_time": "2023-03-17T13:58:17.012Z"
   },
   {
    "duration": 72,
    "start_time": "2023-03-17T13:58:51.870Z"
   },
   {
    "duration": 60,
    "start_time": "2023-03-17T13:58:59.836Z"
   },
   {
    "duration": 16,
    "start_time": "2023-03-17T13:59:42.036Z"
   },
   {
    "duration": 1030,
    "start_time": "2023-03-17T14:00:06.040Z"
   },
   {
    "duration": 25,
    "start_time": "2023-03-17T14:00:14.468Z"
   },
   {
    "duration": 38,
    "start_time": "2023-03-17T14:00:24.213Z"
   },
   {
    "duration": 772,
    "start_time": "2023-03-17T14:01:42.441Z"
   },
   {
    "duration": 16,
    "start_time": "2023-03-17T14:01:46.326Z"
   },
   {
    "duration": 15,
    "start_time": "2023-03-17T14:02:04.942Z"
   },
   {
    "duration": 18,
    "start_time": "2023-03-17T14:03:34.461Z"
   },
   {
    "duration": 17,
    "start_time": "2023-03-17T14:04:18.755Z"
   },
   {
    "duration": 3,
    "start_time": "2023-03-17T14:33:05.942Z"
   },
   {
    "duration": 5,
    "start_time": "2023-03-17T14:33:11.745Z"
   },
   {
    "duration": 4,
    "start_time": "2023-03-17T14:33:15.850Z"
   },
   {
    "duration": 9,
    "start_time": "2023-03-17T14:36:47.219Z"
   },
   {
    "duration": 7,
    "start_time": "2023-03-17T14:36:47.823Z"
   },
   {
    "duration": 7,
    "start_time": "2023-03-17T14:36:48.438Z"
   },
   {
    "duration": 163,
    "start_time": "2023-03-17T14:40:23.434Z"
   },
   {
    "duration": 6,
    "start_time": "2023-03-17T14:40:42.239Z"
   },
   {
    "duration": 4,
    "start_time": "2023-03-17T14:40:43.437Z"
   },
   {
    "duration": 13,
    "start_time": "2023-03-17T14:40:44.025Z"
   },
   {
    "duration": 5,
    "start_time": "2023-03-17T14:41:18.247Z"
   },
   {
    "duration": 5,
    "start_time": "2023-03-17T14:41:18.563Z"
   },
   {
    "duration": 6,
    "start_time": "2023-03-17T14:41:19.014Z"
   },
   {
    "duration": 5,
    "start_time": "2023-03-17T14:41:29.856Z"
   },
   {
    "duration": 4,
    "start_time": "2023-03-17T14:41:30.160Z"
   },
   {
    "duration": 5,
    "start_time": "2023-03-17T14:41:30.528Z"
   },
   {
    "duration": 4,
    "start_time": "2023-03-17T14:42:42.657Z"
   },
   {
    "duration": 4,
    "start_time": "2023-03-17T14:42:42.945Z"
   },
   {
    "duration": 9,
    "start_time": "2023-03-17T14:42:43.193Z"
   },
   {
    "duration": 4,
    "start_time": "2023-03-17T14:43:17.959Z"
   },
   {
    "duration": 7,
    "start_time": "2023-03-17T14:43:18.318Z"
   },
   {
    "duration": 5,
    "start_time": "2023-03-17T14:43:18.732Z"
   },
   {
    "duration": 15,
    "start_time": "2023-03-17T14:43:44.523Z"
   },
   {
    "duration": 8,
    "start_time": "2023-03-17T14:43:44.831Z"
   },
   {
    "duration": 5,
    "start_time": "2023-03-17T14:43:45.248Z"
   },
   {
    "duration": 7,
    "start_time": "2023-03-17T14:46:18.532Z"
   },
   {
    "duration": 6,
    "start_time": "2023-03-17T14:46:18.924Z"
   },
   {
    "duration": 5,
    "start_time": "2023-03-17T14:46:19.474Z"
   },
   {
    "duration": 4,
    "start_time": "2023-03-17T14:50:36.770Z"
   },
   {
    "duration": 5,
    "start_time": "2023-03-17T14:50:37.218Z"
   },
   {
    "duration": 11,
    "start_time": "2023-03-17T14:50:37.714Z"
   },
   {
    "duration": 3,
    "start_time": "2023-03-17T14:53:26.221Z"
   },
   {
    "duration": 3,
    "start_time": "2023-03-17T14:53:26.826Z"
   },
   {
    "duration": 4,
    "start_time": "2023-03-17T14:53:27.362Z"
   },
   {
    "duration": 7,
    "start_time": "2023-03-17T14:55:29.719Z"
   },
   {
    "duration": 11,
    "start_time": "2023-03-17T14:55:35.679Z"
   },
   {
    "duration": 5,
    "start_time": "2023-03-17T14:55:39.278Z"
   },
   {
    "duration": 13,
    "start_time": "2023-03-17T14:55:40.114Z"
   },
   {
    "duration": 6,
    "start_time": "2023-03-17T14:56:41.728Z"
   },
   {
    "duration": 5,
    "start_time": "2023-03-17T14:56:42.027Z"
   },
   {
    "duration": 7,
    "start_time": "2023-03-17T14:56:42.428Z"
   },
   {
    "duration": 4,
    "start_time": "2023-03-17T14:57:13.072Z"
   },
   {
    "duration": 3,
    "start_time": "2023-03-17T14:57:13.373Z"
   },
   {
    "duration": 4,
    "start_time": "2023-03-17T14:57:13.822Z"
   },
   {
    "duration": 4,
    "start_time": "2023-03-17T14:57:35.566Z"
   },
   {
    "duration": 3,
    "start_time": "2023-03-17T14:57:35.873Z"
   },
   {
    "duration": 4,
    "start_time": "2023-03-17T14:57:36.266Z"
   },
   {
    "duration": 3,
    "start_time": "2023-03-17T14:57:49.541Z"
   },
   {
    "duration": 7,
    "start_time": "2023-03-17T14:58:51.222Z"
   },
   {
    "duration": 4,
    "start_time": "2023-03-17T15:10:35.934Z"
   },
   {
    "duration": 4,
    "start_time": "2023-03-17T15:10:36.163Z"
   },
   {
    "duration": 2042,
    "start_time": "2023-03-17T15:10:36.382Z"
   },
   {
    "duration": 43,
    "start_time": "2023-03-17T15:10:38.429Z"
   },
   {
    "duration": 31,
    "start_time": "2023-03-17T15:10:38.474Z"
   },
   {
    "duration": 9120,
    "start_time": "2023-03-17T15:10:38.509Z"
   },
   {
    "duration": 24517,
    "start_time": "2023-03-17T15:10:47.631Z"
   },
   {
    "duration": 2175,
    "start_time": "2023-03-17T15:11:12.149Z"
   },
   {
    "duration": 10870,
    "start_time": "2023-03-17T15:11:14.326Z"
   },
   {
    "duration": 21,
    "start_time": "2023-03-17T15:11:25.200Z"
   },
   {
    "duration": 50,
    "start_time": "2023-03-17T15:11:25.223Z"
   },
   {
    "duration": 318,
    "start_time": "2023-03-17T15:11:25.276Z"
   },
   {
    "duration": 7,
    "start_time": "2023-03-17T15:11:25.597Z"
   },
   {
    "duration": 35,
    "start_time": "2023-03-17T15:11:25.606Z"
   },
   {
    "duration": 193,
    "start_time": "2023-03-17T15:11:25.644Z"
   },
   {
    "duration": 302,
    "start_time": "2023-03-17T15:11:25.839Z"
   },
   {
    "duration": 188,
    "start_time": "2023-03-17T15:11:26.148Z"
   },
   {
    "duration": 141,
    "start_time": "2023-03-17T15:11:26.338Z"
   },
   {
    "duration": 165,
    "start_time": "2023-03-17T15:11:26.481Z"
   },
   {
    "duration": 5,
    "start_time": "2023-03-17T15:11:26.648Z"
   },
   {
    "duration": 958,
    "start_time": "2023-03-17T15:13:57.114Z"
   },
   {
    "duration": 63,
    "start_time": "2023-03-17T15:17:17.262Z"
   },
   {
    "duration": 1939,
    "start_time": "2023-03-17T15:17:25.535Z"
   },
   {
    "duration": 1709,
    "start_time": "2023-03-17T15:18:07.751Z"
   },
   {
    "duration": 84,
    "start_time": "2023-03-17T15:22:30.465Z"
   },
   {
    "duration": 49,
    "start_time": "2023-03-17T15:24:52.114Z"
   },
   {
    "duration": 88,
    "start_time": "2023-03-17T15:25:54.258Z"
   },
   {
    "duration": 49,
    "start_time": "2023-03-17T15:26:00.802Z"
   },
   {
    "duration": 60,
    "start_time": "2023-03-17T15:26:13.670Z"
   },
   {
    "duration": 53,
    "start_time": "2023-03-17T15:27:34.869Z"
   },
   {
    "duration": 4444,
    "start_time": "2023-03-17T15:28:48.994Z"
   },
   {
    "duration": 4636,
    "start_time": "2023-03-17T15:29:14.823Z"
   },
   {
    "duration": 833,
    "start_time": "2023-03-17T15:29:43.170Z"
   },
   {
    "duration": 10980,
    "start_time": "2023-03-17T15:30:18.477Z"
   },
   {
    "duration": 10961,
    "start_time": "2023-03-17T15:31:18.675Z"
   },
   {
    "duration": 11272,
    "start_time": "2023-03-17T15:33:14.202Z"
   },
   {
    "duration": 11103,
    "start_time": "2023-03-17T15:34:59.119Z"
   },
   {
    "duration": 5,
    "start_time": "2023-03-17T15:39:59.450Z"
   },
   {
    "duration": 84,
    "start_time": "2023-03-17T15:40:34.273Z"
   },
   {
    "duration": 5,
    "start_time": "2023-03-17T15:40:50.979Z"
   },
   {
    "duration": 7,
    "start_time": "2023-03-17T15:41:37.585Z"
   },
   {
    "duration": 4,
    "start_time": "2023-03-17T15:42:14.655Z"
   },
   {
    "duration": 4,
    "start_time": "2023-03-17T15:42:15.111Z"
   },
   {
    "duration": 2287,
    "start_time": "2023-03-17T15:42:15.510Z"
   },
   {
    "duration": 47,
    "start_time": "2023-03-17T15:42:17.806Z"
   },
   {
    "duration": 15,
    "start_time": "2023-03-17T15:42:17.855Z"
   },
   {
    "duration": 7868,
    "start_time": "2023-03-17T15:42:17.873Z"
   },
   {
    "duration": 21373,
    "start_time": "2023-03-17T15:42:25.743Z"
   },
   {
    "duration": 1913,
    "start_time": "2023-03-17T15:42:47.118Z"
   },
   {
    "duration": 9539,
    "start_time": "2023-03-17T15:42:49.032Z"
   },
   {
    "duration": 25,
    "start_time": "2023-03-17T15:42:58.572Z"
   },
   {
    "duration": 29,
    "start_time": "2023-03-17T15:42:58.602Z"
   },
   {
    "duration": 301,
    "start_time": "2023-03-17T15:42:58.633Z"
   },
   {
    "duration": 6,
    "start_time": "2023-03-17T15:42:58.937Z"
   },
   {
    "duration": 9,
    "start_time": "2023-03-17T15:42:58.946Z"
   },
   {
    "duration": 167,
    "start_time": "2023-03-17T15:42:58.957Z"
   },
   {
    "duration": 147,
    "start_time": "2023-03-17T15:42:59.126Z"
   },
   {
    "duration": 188,
    "start_time": "2023-03-17T15:42:59.275Z"
   },
   {
    "duration": 125,
    "start_time": "2023-03-17T15:42:59.464Z"
   },
   {
    "duration": 224,
    "start_time": "2023-03-17T15:42:59.598Z"
   },
   {
    "duration": 5,
    "start_time": "2023-03-17T15:42:59.824Z"
   },
   {
    "duration": 10675,
    "start_time": "2023-03-17T15:42:59.830Z"
   },
   {
    "duration": 10714,
    "start_time": "2023-03-17T15:43:10.507Z"
   },
   {
    "duration": 9109,
    "start_time": "2023-03-17T15:43:21.223Z"
   },
   {
    "duration": 6,
    "start_time": "2023-03-17T15:43:30.334Z"
   },
   {
    "duration": 5,
    "start_time": "2023-03-17T15:43:47.672Z"
   },
   {
    "duration": 4,
    "start_time": "2023-03-17T15:45:21.175Z"
   },
   {
    "duration": 6,
    "start_time": "2023-03-17T15:45:24.647Z"
   },
   {
    "duration": 5,
    "start_time": "2023-03-17T15:45:31.889Z"
   },
   {
    "duration": 6,
    "start_time": "2023-03-17T15:46:11.603Z"
   },
   {
    "duration": 5,
    "start_time": "2023-03-17T15:46:19.762Z"
   },
   {
    "duration": 5,
    "start_time": "2023-03-17T15:47:29.162Z"
   },
   {
    "duration": 6,
    "start_time": "2023-03-17T15:47:42.321Z"
   },
   {
    "duration": 4,
    "start_time": "2023-03-17T16:04:01.884Z"
   },
   {
    "duration": 1028,
    "start_time": "2023-03-17T16:04:06.485Z"
   },
   {
    "duration": 5,
    "start_time": "2023-03-17T16:04:19.714Z"
   },
   {
    "duration": 14,
    "start_time": "2023-03-17T16:04:20.418Z"
   },
   {
    "duration": 4,
    "start_time": "2023-03-17T16:04:27.779Z"
   },
   {
    "duration": 15,
    "start_time": "2023-03-17T16:04:28.862Z"
   },
   {
    "duration": 4,
    "start_time": "2023-03-17T16:06:58.520Z"
   },
   {
    "duration": 15,
    "start_time": "2023-03-17T16:06:59.055Z"
   },
   {
    "duration": 5,
    "start_time": "2023-03-17T16:08:43.968Z"
   },
   {
    "duration": 12,
    "start_time": "2023-03-17T16:10:24.795Z"
   },
   {
    "duration": 5,
    "start_time": "2023-03-17T16:10:30.971Z"
   },
   {
    "duration": 1238,
    "start_time": "2023-03-17T16:11:40.520Z"
   },
   {
    "duration": 4,
    "start_time": "2023-03-17T16:11:41.760Z"
   },
   {
    "duration": 2737,
    "start_time": "2023-03-17T16:11:41.766Z"
   },
   {
    "duration": 70,
    "start_time": "2023-03-17T16:11:44.506Z"
   },
   {
    "duration": 27,
    "start_time": "2023-03-17T16:11:44.579Z"
   },
   {
    "duration": 8588,
    "start_time": "2023-03-17T16:11:44.608Z"
   },
   {
    "duration": 23451,
    "start_time": "2023-03-17T16:11:53.202Z"
   },
   {
    "duration": 2072,
    "start_time": "2023-03-17T16:12:16.655Z"
   },
   {
    "duration": 10272,
    "start_time": "2023-03-17T16:12:18.729Z"
   },
   {
    "duration": 22,
    "start_time": "2023-03-17T16:12:29.003Z"
   },
   {
    "duration": 38,
    "start_time": "2023-03-17T16:12:29.027Z"
   },
   {
    "duration": 339,
    "start_time": "2023-03-17T16:12:29.067Z"
   },
   {
    "duration": 12,
    "start_time": "2023-03-17T16:12:29.408Z"
   },
   {
    "duration": 17,
    "start_time": "2023-03-17T16:12:29.425Z"
   },
   {
    "duration": 215,
    "start_time": "2023-03-17T16:12:29.444Z"
   },
   {
    "duration": 177,
    "start_time": "2023-03-17T16:12:29.661Z"
   },
   {
    "duration": 301,
    "start_time": "2023-03-17T16:12:29.840Z"
   },
   {
    "duration": 157,
    "start_time": "2023-03-17T16:12:30.143Z"
   },
   {
    "duration": 153,
    "start_time": "2023-03-17T16:12:30.303Z"
   },
   {
    "duration": 6,
    "start_time": "2023-03-17T16:12:30.458Z"
   },
   {
    "duration": 11965,
    "start_time": "2023-03-17T16:12:30.466Z"
   },
   {
    "duration": 12108,
    "start_time": "2023-03-17T16:12:42.433Z"
   },
   {
    "duration": 10180,
    "start_time": "2023-03-17T16:12:54.544Z"
   },
   {
    "duration": 5,
    "start_time": "2023-03-17T16:13:04.726Z"
   },
   {
    "duration": 8,
    "start_time": "2023-03-17T16:13:04.733Z"
   },
   {
    "duration": 9,
    "start_time": "2023-03-17T16:13:04.744Z"
   },
   {
    "duration": 10,
    "start_time": "2023-03-17T16:13:04.755Z"
   },
   {
    "duration": 14,
    "start_time": "2023-03-17T16:13:04.768Z"
   },
   {
    "duration": 57,
    "start_time": "2023-03-17T16:13:04.784Z"
   },
   {
    "duration": 4,
    "start_time": "2023-03-17T16:13:04.843Z"
   },
   {
    "duration": 25,
    "start_time": "2023-03-17T16:13:04.850Z"
   },
   {
    "duration": 24,
    "start_time": "2023-03-17T16:13:04.877Z"
   },
   {
    "duration": 37,
    "start_time": "2023-03-17T16:13:04.910Z"
   },
   {
    "duration": 19,
    "start_time": "2023-03-17T16:13:04.949Z"
   },
   {
    "duration": 19,
    "start_time": "2023-03-17T16:13:04.970Z"
   },
   {
    "duration": 21,
    "start_time": "2023-03-17T16:13:04.991Z"
   },
   {
    "duration": 8890,
    "start_time": "2023-03-17T16:13:05.013Z"
   },
   {
    "duration": 794149,
    "start_time": "2023-03-17T16:13:13.905Z"
   },
   {
    "duration": 1752,
    "start_time": "2023-03-17T16:26:28.057Z"
   },
   {
    "duration": 334,
    "start_time": "2023-03-17T16:26:29.811Z"
   },
   {
    "duration": 5,
    "start_time": "2023-03-17T16:26:30.150Z"
   },
   {
    "duration": 27,
    "start_time": "2023-03-17T16:26:30.156Z"
   },
   {
    "duration": 55,
    "start_time": "2023-03-17T16:26:30.185Z"
   },
   {
    "duration": 65,
    "start_time": "2023-03-17T16:26:30.243Z"
   },
   {
    "duration": 1176,
    "start_time": "2023-03-17T16:30:33.756Z"
   },
   {
    "duration": 12,
    "start_time": "2023-03-17T16:31:12.554Z"
   },
   {
    "duration": 302,
    "start_time": "2023-03-17T16:31:18.019Z"
   },
   {
    "duration": 4,
    "start_time": "2023-03-17T16:31:18.868Z"
   },
   {
    "duration": 51,
    "start_time": "2023-03-17T17:13:45.914Z"
   }
  ],
  "kernelspec": {
   "display_name": "Python 3 (ipykernel)",
   "language": "python",
   "name": "python3"
  },
  "language_info": {
   "codemirror_mode": {
    "name": "ipython",
    "version": 3
   },
   "file_extension": ".py",
   "mimetype": "text/x-python",
   "name": "python",
   "nbconvert_exporter": "python",
   "pygments_lexer": "ipython3",
   "version": "3.10.9"
  },
  "toc": {
   "base_numbering": 1,
   "nav_menu": {},
   "number_sections": true,
   "sideBar": true,
   "skip_h1_title": true,
   "title_cell": "Содержание",
   "title_sidebar": "Contents",
   "toc_cell": true,
   "toc_position": {
    "height": "533.6px",
    "left": "23px",
    "top": "110.525px",
    "width": "267.4px"
   },
   "toc_section_display": true,
   "toc_window_display": true
  }
 },
 "nbformat": 4,
 "nbformat_minor": 2
}
